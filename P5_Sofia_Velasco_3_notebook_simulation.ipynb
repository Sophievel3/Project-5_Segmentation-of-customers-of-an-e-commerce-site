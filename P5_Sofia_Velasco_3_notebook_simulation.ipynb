{
 "cells": [
  {
   "cell_type": "code",
   "execution_count": null,
   "id": "d450648e",
   "metadata": {},
   "outputs": [],
   "source": [
    "#Importer les modules:"
   ]
  },
  {
   "cell_type": "code",
   "execution_count": 1,
   "id": "51b40ec5",
   "metadata": {},
   "outputs": [],
   "source": [
    "import pandas as pd\n",
    "import numpy as np\n",
    "import seaborn as sns\n",
    "import matplotlib.pyplot as plt\n",
    "from sklearn.decomposition import PCA\n",
    "from sklearn.cluster import KMeans\n",
    "from sklearn.compose import ColumnTransformer\n",
    "import colorama\n",
    "from colorama import Fore\n",
    "from colorama import Style\n",
    "import os, sys\n",
    "import matplotlib\n",
    "from matplotlib import cm\n",
    "from matplotlib.patches import Circle, Wedge, Rectangle\n",
    "from math import log10\n",
    "\n",
    "import scipy.stats as stats\n",
    "\n",
    "import statsmodels.api as sm\n",
    "from statsmodels.formula.api import ols\n",
    "\n",
    "\n",
    "import ast\n",
    "import scipy.stats as stats\n",
    "import re\n",
    "from sklearn.preprocessing import StandardScaler\n",
    "from sklearn.preprocessing import OneHotEncoder\n",
    "from sklearn.dummy import DummyRegressor\n",
    "from sklearn.linear_model import LinearRegression\n",
    "from sklearn.linear_model import LogisticRegression\n",
    "from sklearn.linear_model import ElasticNet\n",
    "from sklearn.ensemble import RandomForestRegressor\n",
    "from sklearn.svm import SVR\n",
    "\n",
    "from sklearn.model_selection import GridSearchCV\n",
    "from sklearn.metrics import r2_score\n",
    "from sklearn.metrics import mean_squared_error\n",
    "from sklearn.metrics import mean_absolute_error\n",
    "from sklearn import metrics\n",
    "from sklearn.inspection import permutation_importance\n",
    "import math\n",
    "from datetime import datetime\n",
    "from datetime import timedelta, date\n",
    "\n",
    "from functools import reduce\n",
    "from sklearn.preprocessing import MinMaxScaler\n",
    "\n",
    "from sklearn.cluster import KMeans\n",
    "from sklearn.pipeline import Pipeline, make_pipeline\n",
    "from sklearn.metrics import homogeneity_score, adjusted_rand_score, adjusted_mutual_info_score\n",
    "\n",
    "from sklearn.neighbors import NearestNeighbors\n",
    "import plotly.express as px\n",
    "from kneed import KneeLocator\n",
    "from sklearn import metrics\n",
    "from sklearn.cluster import DBSCAN\n",
    "#from yellowbrick.cluster import KElbowVisualizer, SilhouetteVisualizer, InterclusterDistance"
   ]
  },
  {
   "cell_type": "code",
   "execution_count": 2,
   "id": "cb0946fd",
   "metadata": {},
   "outputs": [
    {
     "name": "stdout",
     "output_type": "stream",
     "text": [
      "No Warning Shown\n"
     ]
    }
   ],
   "source": [
    "import warnings\n",
    "warnings.filterwarnings('ignore')\n",
    "warnings.warn('DelftStack')\n",
    "warnings.warn('Do not show this message')\n",
    "print(\"No Warning Shown\")"
   ]
  },
  {
   "cell_type": "code",
   "execution_count": null,
   "id": "35bf83e1",
   "metadata": {},
   "outputs": [],
   "source": [
    "#A. IMPORTER LES DONNÉES:"
   ]
  },
  {
   "cell_type": "code",
   "execution_count": 3,
   "id": "1123dc16",
   "metadata": {},
   "outputs": [
    {
     "name": "stdout",
     "output_type": "stream",
     "text": [
      "C:\\Users\\'titite\\Desktop\\Data Science candidature\\Projets\\Projet 5\\Data\n"
     ]
    }
   ],
   "source": [
    "cd Desktop\\Data Science candidature\\Projets\\Projet 5\\Data\\"
   ]
  },
  {
   "cell_type": "code",
   "execution_count": 4,
   "id": "88582721",
   "metadata": {},
   "outputs": [
    {
     "name": "stdout",
     "output_type": "stream",
     "text": [
      " Le volume dans le lecteur C s'appelle OS\n",
      " Le num‚ro de s‚rie du volume est 609B-8774\n",
      "\n",
      " R‚pertoire de C:\\Users\\'titite\\Desktop\\Data Science candidature\\Projets\\Projet 5\\Data\n",
      "\n",
      "28/07/2022  08:29    <DIR>          .\n",
      "28/07/2022  08:29    <DIR>          ..\n",
      "23/06/2022  17:27        44ÿ717ÿ580 archive.zip\n",
      "29/07/2022  10:50         7ÿ104ÿ383 Data.csv\n",
      "29/07/2022  10:51        14ÿ961ÿ819 Data_norm.csv\n",
      "29/07/2022  10:51         9ÿ534ÿ280 Data_sim.csv\n",
      "29/07/2022  10:51        21ÿ680ÿ630 Data_sim2.csv\n",
      "01/10/2021  19:08         9ÿ033ÿ957 olist_customers_dataset.csv\n",
      "01/10/2021  19:08        61ÿ273ÿ883 olist_geolocation_dataset.csv\n",
      "01/10/2021  19:08        15ÿ438ÿ671 olist_order_items_dataset.csv\n",
      "01/10/2021  19:08         5ÿ777ÿ138 olist_order_payments_dataset.csv\n",
      "01/10/2021  19:08        14ÿ451ÿ670 olist_order_reviews_dataset.csv\n",
      "16/07/2022  00:55         8ÿ154ÿ045 olist_order_reviews_dataset.ods\n",
      "01/10/2021  19:08        17ÿ654ÿ914 olist_orders_dataset.csv\n",
      "01/10/2021  19:08         2ÿ379ÿ446 olist_products_dataset.csv\n",
      "01/10/2021  19:08           174ÿ703 olist_sellers_dataset.csv\n",
      "01/10/2021  19:08             2ÿ613 product_category_name_translation.csv\n",
      "              15 fichier(s)      232ÿ339ÿ732 octets\n",
      "               2 R‚p(s)  120ÿ097ÿ382ÿ400 octets libres\n"
     ]
    }
   ],
   "source": [
    "ls"
   ]
  },
  {
   "cell_type": "code",
   "execution_count": null,
   "id": "4a7b348d",
   "metadata": {},
   "outputs": [],
   "source": [
    "#A.1 On importe le dataset (sans les variables pour calcul des variables RFM)  pour la simulation."
   ]
  },
  {
   "cell_type": "code",
   "execution_count": 5,
   "id": "cf757409",
   "metadata": {},
   "outputs": [],
   "source": [
    "df_s=pd.read_csv('Data_sim.csv', sep=',', low_memory=False)"
   ]
  },
  {
   "cell_type": "code",
   "execution_count": 6,
   "id": "cb285da9",
   "metadata": {},
   "outputs": [
    {
     "data": {
      "text/plain": [
       "customer_unique_id                                         98665\n",
       "Date_du_dernier_achat_par_client                           98665\n",
       "Dataset_last_day                                           98665\n",
       "R-recency                                                  98665\n",
       "F-frequency                                                98665\n",
       "Nombre_de_commandes_respectant_delais_livraison            98665\n",
       "M-monetary                                                 98665\n",
       "Diff_dépenses_produits_frais                               98665\n",
       "review_score_moyen_moyenne_par_commande_par_client         98665\n",
       "payment_sequential_moyenne_par_commande_par_client         98665\n",
       "payment_installments_moyenne_par_commande_par_client       98665\n",
       "Nombre_total_catégories_moyenne_par_commande_par_client    98665\n",
       "Nombre_total_vendeurs_moyenne_par_commande_par_client      98665\n",
       "Nombre_total_items_moyenne_par_commande_par_client         98665\n",
       "dtype: int64"
      ]
     },
     "execution_count": 6,
     "metadata": {},
     "output_type": "execute_result"
    }
   ],
   "source": [
    "df_s.count()"
   ]
  },
  {
   "cell_type": "code",
   "execution_count": 7,
   "id": "a9a3bc54",
   "metadata": {},
   "outputs": [],
   "source": [
    "df_s=df_s.drop(['Nombre_de_commandes_respectant_delais_livraison',\n",
    "                'Diff_dépenses_produits_frais',\n",
    "                'review_score_moyen_moyenne_par_commande_par_client',\n",
    "                'payment_sequential_moyenne_par_commande_par_client',\n",
    "                'payment_installments_moyenne_par_commande_par_client',\n",
    "                'Nombre_total_catégories_moyenne_par_commande_par_client',\n",
    "                'Nombre_total_vendeurs_moyenne_par_commande_par_client',\n",
    "                'Nombre_total_items_moyenne_par_commande_par_client'], axis=1)"
   ]
  },
  {
   "cell_type": "code",
   "execution_count": null,
   "id": "42fb0b3f",
   "metadata": {},
   "outputs": [],
   "source": [
    "#ATTENTION: dans cette base on n'a pas regroupé encore par 'customer_unique_id'"
   ]
  },
  {
   "cell_type": "code",
   "execution_count": null,
   "id": "0a48159f",
   "metadata": {
    "scrolled": true
   },
   "outputs": [],
   "source": [
    "#test=df_s.loc[df_s['customer_unique_id'].isin(['8d50f5eadf50201ccdcedfb9e2ac8455'])]\n",
    "#test"
   ]
  },
  {
   "cell_type": "code",
   "execution_count": null,
   "id": "0330a10d",
   "metadata": {},
   "outputs": [],
   "source": [
    "#On regroupe par 'customer_unique_id'"
   ]
  },
  {
   "cell_type": "code",
   "execution_count": 8,
   "id": "a292bb10",
   "metadata": {},
   "outputs": [
    {
     "data": {
      "text/plain": [
       "customer_unique_id                  95419\n",
       "Date_du_dernier_achat_par_client    95419\n",
       "Dataset_last_day                    95419\n",
       "R-recency                           95419\n",
       "F-frequency                         95419\n",
       "M-monetary                          95419\n",
       "dtype: int64"
      ]
     },
     "execution_count": 8,
     "metadata": {},
     "output_type": "execute_result"
    }
   ],
   "source": [
    "df_s=df_s.drop_duplicates(subset =['customer_unique_id'])\n",
    "df_s.count()"
   ]
  },
  {
   "cell_type": "code",
   "execution_count": 9,
   "id": "77130b53",
   "metadata": {},
   "outputs": [
    {
     "data": {
      "text/plain": [
       "customer_unique_id                   object\n",
       "Date_du_dernier_achat_par_client     object\n",
       "Dataset_last_day                     object\n",
       "R-recency                             int64\n",
       "F-frequency                           int64\n",
       "M-monetary                          float64\n",
       "dtype: object"
      ]
     },
     "execution_count": 9,
     "metadata": {},
     "output_type": "execute_result"
    }
   ],
   "source": [
    "df_s.dtypes"
   ]
  },
  {
   "cell_type": "code",
   "execution_count": 10,
   "id": "7e696bc1",
   "metadata": {
    "scrolled": true
   },
   "outputs": [
    {
     "data": {
      "text/html": [
       "<div>\n",
       "<style scoped>\n",
       "    .dataframe tbody tr th:only-of-type {\n",
       "        vertical-align: middle;\n",
       "    }\n",
       "\n",
       "    .dataframe tbody tr th {\n",
       "        vertical-align: top;\n",
       "    }\n",
       "\n",
       "    .dataframe thead th {\n",
       "        text-align: right;\n",
       "    }\n",
       "</style>\n",
       "<table border=\"1\" class=\"dataframe\">\n",
       "  <thead>\n",
       "    <tr style=\"text-align: right;\">\n",
       "      <th></th>\n",
       "      <th>customer_unique_id</th>\n",
       "      <th>Date_du_dernier_achat_par_client</th>\n",
       "      <th>Dataset_last_day</th>\n",
       "      <th>R-recency</th>\n",
       "      <th>F-frequency</th>\n",
       "      <th>M-monetary</th>\n",
       "    </tr>\n",
       "  </thead>\n",
       "  <tbody>\n",
       "    <tr>\n",
       "      <th>0</th>\n",
       "      <td>f7b62c75467e8ce080b201667cbbc274</td>\n",
       "      <td>2016-10-07</td>\n",
       "      <td>2018-09-03</td>\n",
       "      <td>697</td>\n",
       "      <td>2</td>\n",
       "      <td>168.05</td>\n",
       "    </tr>\n",
       "    <tr>\n",
       "      <th>1</th>\n",
       "      <td>d0b614ed8a43dca2f98a7c093723809d</td>\n",
       "      <td>2018-08-20</td>\n",
       "      <td>2018-09-03</td>\n",
       "      <td>15</td>\n",
       "      <td>1</td>\n",
       "      <td>212.82</td>\n",
       "    </tr>\n",
       "    <tr>\n",
       "      <th>2</th>\n",
       "      <td>71692b73230707ce0f95d8a6091c22b4</td>\n",
       "      <td>2018-08-09</td>\n",
       "      <td>2018-09-03</td>\n",
       "      <td>26</td>\n",
       "      <td>1</td>\n",
       "      <td>333.91</td>\n",
       "    </tr>\n",
       "    <tr>\n",
       "      <th>3</th>\n",
       "      <td>60ef1068bcbffaed11615482aeb7c8bf</td>\n",
       "      <td>2018-08-23</td>\n",
       "      <td>2018-09-03</td>\n",
       "      <td>12</td>\n",
       "      <td>1</td>\n",
       "      <td>150.27</td>\n",
       "    </tr>\n",
       "    <tr>\n",
       "      <th>4</th>\n",
       "      <td>8d43f7b8f33f60fb6ae5ec21072135b5</td>\n",
       "      <td>2018-08-09</td>\n",
       "      <td>2018-09-03</td>\n",
       "      <td>26</td>\n",
       "      <td>1</td>\n",
       "      <td>318.97</td>\n",
       "    </tr>\n",
       "    <tr>\n",
       "      <th>...</th>\n",
       "      <td>...</td>\n",
       "      <td>...</td>\n",
       "      <td>...</td>\n",
       "      <td>...</td>\n",
       "      <td>...</td>\n",
       "      <td>...</td>\n",
       "    </tr>\n",
       "    <tr>\n",
       "      <th>98658</th>\n",
       "      <td>e20f982ec35a961d9e018e56e47e7778</td>\n",
       "      <td>2018-02-14</td>\n",
       "      <td>2018-09-03</td>\n",
       "      <td>202</td>\n",
       "      <td>1</td>\n",
       "      <td>466.97</td>\n",
       "    </tr>\n",
       "    <tr>\n",
       "      <th>98660</th>\n",
       "      <td>8bd9c53ae5e194fd363ed6714235e6be</td>\n",
       "      <td>2018-01-01</td>\n",
       "      <td>2018-09-03</td>\n",
       "      <td>246</td>\n",
       "      <td>1</td>\n",
       "      <td>274.84</td>\n",
       "    </tr>\n",
       "    <tr>\n",
       "      <th>98661</th>\n",
       "      <td>99567d452c6589499a2ba8b0fd4658e5</td>\n",
       "      <td>2018-07-16</td>\n",
       "      <td>2018-09-03</td>\n",
       "      <td>50</td>\n",
       "      <td>1</td>\n",
       "      <td>664.43</td>\n",
       "    </tr>\n",
       "    <tr>\n",
       "      <th>98663</th>\n",
       "      <td>6f90ec5150be36c4475835b5941ab56f</td>\n",
       "      <td>2016-10-09</td>\n",
       "      <td>2018-09-03</td>\n",
       "      <td>695</td>\n",
       "      <td>1</td>\n",
       "      <td>406.92</td>\n",
       "    </tr>\n",
       "    <tr>\n",
       "      <th>98664</th>\n",
       "      <td>3629a4b18f2eb69e03f153158e48d2cc</td>\n",
       "      <td>2018-01-25</td>\n",
       "      <td>2018-09-03</td>\n",
       "      <td>222</td>\n",
       "      <td>1</td>\n",
       "      <td>1586.47</td>\n",
       "    </tr>\n",
       "  </tbody>\n",
       "</table>\n",
       "<p>95419 rows × 6 columns</p>\n",
       "</div>"
      ],
      "text/plain": [
       "                     customer_unique_id Date_du_dernier_achat_par_client  \\\n",
       "0      f7b62c75467e8ce080b201667cbbc274                       2016-10-07   \n",
       "1      d0b614ed8a43dca2f98a7c093723809d                       2018-08-20   \n",
       "2      71692b73230707ce0f95d8a6091c22b4                       2018-08-09   \n",
       "3      60ef1068bcbffaed11615482aeb7c8bf                       2018-08-23   \n",
       "4      8d43f7b8f33f60fb6ae5ec21072135b5                       2018-08-09   \n",
       "...                                 ...                              ...   \n",
       "98658  e20f982ec35a961d9e018e56e47e7778                       2018-02-14   \n",
       "98660  8bd9c53ae5e194fd363ed6714235e6be                       2018-01-01   \n",
       "98661  99567d452c6589499a2ba8b0fd4658e5                       2018-07-16   \n",
       "98663  6f90ec5150be36c4475835b5941ab56f                       2016-10-09   \n",
       "98664  3629a4b18f2eb69e03f153158e48d2cc                       2018-01-25   \n",
       "\n",
       "      Dataset_last_day  R-recency  F-frequency  M-monetary  \n",
       "0           2018-09-03        697            2      168.05  \n",
       "1           2018-09-03         15            1      212.82  \n",
       "2           2018-09-03         26            1      333.91  \n",
       "3           2018-09-03         12            1      150.27  \n",
       "4           2018-09-03         26            1      318.97  \n",
       "...                ...        ...          ...         ...  \n",
       "98658       2018-09-03        202            1      466.97  \n",
       "98660       2018-09-03        246            1      274.84  \n",
       "98661       2018-09-03         50            1      664.43  \n",
       "98663       2018-09-03        695            1      406.92  \n",
       "98664       2018-09-03        222            1     1586.47  \n",
       "\n",
       "[95419 rows x 6 columns]"
      ]
     },
     "execution_count": 10,
     "metadata": {},
     "output_type": "execute_result"
    }
   ],
   "source": [
    "df_s"
   ]
  },
  {
   "cell_type": "code",
   "execution_count": 11,
   "id": "a45868e7",
   "metadata": {},
   "outputs": [],
   "source": [
    "df_s['Date_du_dernier_achat_par_client']=pd.to_datetime(df_s['Date_du_dernier_achat_par_client'])"
   ]
  },
  {
   "cell_type": "code",
   "execution_count": 12,
   "id": "d054dbe8",
   "metadata": {},
   "outputs": [],
   "source": [
    "df_s['Dataset_last_day']=pd.to_datetime(df_s['Dataset_last_day'])"
   ]
  },
  {
   "cell_type": "code",
   "execution_count": 13,
   "id": "4621abee",
   "metadata": {},
   "outputs": [
    {
     "data": {
      "text/plain": [
       "customer_unique_id                          object\n",
       "Date_du_dernier_achat_par_client    datetime64[ns]\n",
       "Dataset_last_day                    datetime64[ns]\n",
       "R-recency                                    int64\n",
       "F-frequency                                  int64\n",
       "M-monetary                                 float64\n",
       "dtype: object"
      ]
     },
     "execution_count": 13,
     "metadata": {},
     "output_type": "execute_result"
    }
   ],
   "source": [
    "df_s.dtypes"
   ]
  },
  {
   "cell_type": "code",
   "execution_count": 14,
   "id": "db70c6dc",
   "metadata": {},
   "outputs": [],
   "source": [
    "df_s['a']=df_s['Dataset_last_day']-df_s['Date_du_dernier_achat_par_client']"
   ]
  },
  {
   "cell_type": "code",
   "execution_count": 15,
   "id": "503de1cd",
   "metadata": {},
   "outputs": [],
   "source": [
    "df_s['diff_jours']=df_s['a'].dt.days"
   ]
  },
  {
   "cell_type": "code",
   "execution_count": 16,
   "id": "aec2666e",
   "metadata": {
    "scrolled": true
   },
   "outputs": [
    {
     "data": {
      "text/plain": [
       "customer_unique_id                           object\n",
       "Date_du_dernier_achat_par_client     datetime64[ns]\n",
       "Dataset_last_day                     datetime64[ns]\n",
       "R-recency                                     int64\n",
       "F-frequency                                   int64\n",
       "M-monetary                                  float64\n",
       "a                                   timedelta64[ns]\n",
       "diff_jours                                    int64\n",
       "dtype: object"
      ]
     },
     "execution_count": 16,
     "metadata": {},
     "output_type": "execute_result"
    }
   ],
   "source": [
    "df_s.dtypes"
   ]
  },
  {
   "cell_type": "code",
   "execution_count": null,
   "id": "f5f71e5c",
   "metadata": {},
   "outputs": [],
   "source": [
    "#A.2 On importe le dataset (avec les variables pour calcul des variables RFM) pour la simulation."
   ]
  },
  {
   "cell_type": "code",
   "execution_count": 17,
   "id": "6f1519f5",
   "metadata": {},
   "outputs": [],
   "source": [
    "df_t=pd.read_csv('Data_sim2.csv', sep=',', low_memory=False)"
   ]
  },
  {
   "cell_type": "code",
   "execution_count": 18,
   "id": "84d3380e",
   "metadata": {
    "scrolled": true
   },
   "outputs": [
    {
     "data": {
      "text/plain": [
       "customer_unique_id                                         98665\n",
       "order_id                                                   98665\n",
       "review_score_moyen                                         98665\n",
       "payment_value                                              98665\n",
       "Prix_total_produits                                        98665\n",
       "freight_value_total                                        98665\n",
       "payment_sequential                                         98665\n",
       "payment_type                                               98665\n",
       "payment_installments                                       98665\n",
       "customer_zip_code_prefix                                   98665\n",
       "customer_city                                              98665\n",
       "customer_state                                             98665\n",
       "Nombre_total_catégories                                    98665\n",
       "Nombre_total_vendeurs                                      98665\n",
       "Nombre_total_items                                         98665\n",
       "order_status                                               98665\n",
       "order_purchase_timestamp_NEW                               98665\n",
       "Respect_temps_livraison                                    98665\n",
       "Date_du_dernier_achat_par_client                           98665\n",
       "Dataset_last_day                                           98665\n",
       "R-recency                                                  98665\n",
       "F-frequency                                                98665\n",
       "Nombre_de_commandes_respectant_delais_livraison            98665\n",
       "M-monetary                                                 98665\n",
       "Diff_dépenses_produits_frais                               98665\n",
       "review_score_moyen_moyenne_par_commande_par_client         98665\n",
       "payment_sequential_moyenne_par_commande_par_client         98665\n",
       "payment_installments_moyenne_par_commande_par_client       98665\n",
       "Nombre_total_catégories_moyenne_par_commande_par_client    98665\n",
       "Nombre_total_vendeurs_moyenne_par_commande_par_client      98665\n",
       "Nombre_total_items_moyenne_par_commande_par_client         98665\n",
       "dtype: int64"
      ]
     },
     "execution_count": 18,
     "metadata": {},
     "output_type": "execute_result"
    }
   ],
   "source": [
    "df_t.count()"
   ]
  },
  {
   "cell_type": "code",
   "execution_count": null,
   "id": "e53bcd43",
   "metadata": {},
   "outputs": [],
   "source": [
    "#Cette fois-ci on va pas droper les doublons en regroupant par client car on veut pouvoir recalculer la variable \n",
    "#'M-monetary'qui dépend du count des commandes effectuées."
   ]
  },
  {
   "cell_type": "code",
   "execution_count": 19,
   "id": "9939fd5c",
   "metadata": {},
   "outputs": [],
   "source": [
    "df_t=df_t.drop(['review_score_moyen',\n",
    "                'payment_sequential',\n",
    "                'payment_installments',\n",
    "                'payment_type',\n",
    "                'customer_zip_code_prefix',\n",
    "                'customer_city',\n",
    "                'customer_state',\n",
    "                'Nombre_total_catégories',\n",
    "                'Nombre_total_vendeurs',\n",
    "                'Nombre_total_items',\n",
    "                'order_status',\n",
    "                'Respect_temps_livraison',\n",
    "                'payment_type',\n",
    "                'Prix_total_produits',\n",
    "                'freight_value_total',\n",
    "                'Nombre_de_commandes_respectant_delais_livraison',\n",
    "                'Diff_dépenses_produits_frais',\n",
    "                'review_score_moyen_moyenne_par_commande_par_client',\n",
    "                'payment_sequential_moyenne_par_commande_par_client',\n",
    "                'payment_installments_moyenne_par_commande_par_client',\n",
    "                'Nombre_total_catégories_moyenne_par_commande_par_client',\n",
    "                'Nombre_total_vendeurs_moyenne_par_commande_par_client',\n",
    "                'Nombre_total_items_moyenne_par_commande_par_client'], axis=1)"
   ]
  },
  {
   "cell_type": "code",
   "execution_count": 20,
   "id": "bc82bc36",
   "metadata": {},
   "outputs": [
    {
     "data": {
      "text/plain": [
       "customer_unique_id                   object\n",
       "order_id                             object\n",
       "payment_value                       float64\n",
       "order_purchase_timestamp_NEW         object\n",
       "Date_du_dernier_achat_par_client     object\n",
       "Dataset_last_day                     object\n",
       "R-recency                             int64\n",
       "F-frequency                           int64\n",
       "M-monetary                          float64\n",
       "dtype: object"
      ]
     },
     "execution_count": 20,
     "metadata": {},
     "output_type": "execute_result"
    }
   ],
   "source": [
    "df_t.dtypes"
   ]
  },
  {
   "cell_type": "code",
   "execution_count": 21,
   "id": "9fb9ff26",
   "metadata": {
    "scrolled": true
   },
   "outputs": [
    {
     "data": {
      "text/html": [
       "<div>\n",
       "<style scoped>\n",
       "    .dataframe tbody tr th:only-of-type {\n",
       "        vertical-align: middle;\n",
       "    }\n",
       "\n",
       "    .dataframe tbody tr th {\n",
       "        vertical-align: top;\n",
       "    }\n",
       "\n",
       "    .dataframe thead th {\n",
       "        text-align: right;\n",
       "    }\n",
       "</style>\n",
       "<table border=\"1\" class=\"dataframe\">\n",
       "  <thead>\n",
       "    <tr style=\"text-align: right;\">\n",
       "      <th></th>\n",
       "      <th>customer_unique_id</th>\n",
       "      <th>order_id</th>\n",
       "      <th>payment_value</th>\n",
       "      <th>order_purchase_timestamp_NEW</th>\n",
       "      <th>Date_du_dernier_achat_par_client</th>\n",
       "      <th>Dataset_last_day</th>\n",
       "      <th>R-recency</th>\n",
       "      <th>F-frequency</th>\n",
       "      <th>M-monetary</th>\n",
       "    </tr>\n",
       "  </thead>\n",
       "  <tbody>\n",
       "    <tr>\n",
       "      <th>0</th>\n",
       "      <td>f7b62c75467e8ce080b201667cbbc274</td>\n",
       "      <td>262118ce178bb3e4590a3adcf6d62e6b</td>\n",
       "      <td>126.12</td>\n",
       "      <td>2016-10-06</td>\n",
       "      <td>2016-10-07</td>\n",
       "      <td>2018-09-03</td>\n",
       "      <td>697</td>\n",
       "      <td>2</td>\n",
       "      <td>168.05</td>\n",
       "    </tr>\n",
       "    <tr>\n",
       "      <th>1</th>\n",
       "      <td>d0b614ed8a43dca2f98a7c093723809d</td>\n",
       "      <td>fd33085945f15975375cd8ec85440511</td>\n",
       "      <td>212.82</td>\n",
       "      <td>2018-08-20</td>\n",
       "      <td>2018-08-20</td>\n",
       "      <td>2018-09-03</td>\n",
       "      <td>15</td>\n",
       "      <td>1</td>\n",
       "      <td>212.82</td>\n",
       "    </tr>\n",
       "    <tr>\n",
       "      <th>2</th>\n",
       "      <td>71692b73230707ce0f95d8a6091c22b4</td>\n",
       "      <td>6e57e23ecac1ae881286657694444267</td>\n",
       "      <td>333.91</td>\n",
       "      <td>2018-08-09</td>\n",
       "      <td>2018-08-09</td>\n",
       "      <td>2018-09-03</td>\n",
       "      <td>26</td>\n",
       "      <td>1</td>\n",
       "      <td>333.91</td>\n",
       "    </tr>\n",
       "    <tr>\n",
       "      <th>3</th>\n",
       "      <td>60ef1068bcbffaed11615482aeb7c8bf</td>\n",
       "      <td>4154bf1348caac78152fe76e3e9c4af8</td>\n",
       "      <td>150.27</td>\n",
       "      <td>2018-08-23</td>\n",
       "      <td>2018-08-23</td>\n",
       "      <td>2018-09-03</td>\n",
       "      <td>12</td>\n",
       "      <td>1</td>\n",
       "      <td>150.27</td>\n",
       "    </tr>\n",
       "    <tr>\n",
       "      <th>4</th>\n",
       "      <td>8d43f7b8f33f60fb6ae5ec21072135b5</td>\n",
       "      <td>6dcf0aeb8b1eb4021c26e1d0e9394979</td>\n",
       "      <td>318.97</td>\n",
       "      <td>2018-08-09</td>\n",
       "      <td>2018-08-09</td>\n",
       "      <td>2018-09-03</td>\n",
       "      <td>26</td>\n",
       "      <td>1</td>\n",
       "      <td>318.97</td>\n",
       "    </tr>\n",
       "    <tr>\n",
       "      <th>...</th>\n",
       "      <td>...</td>\n",
       "      <td>...</td>\n",
       "      <td>...</td>\n",
       "      <td>...</td>\n",
       "      <td>...</td>\n",
       "      <td>...</td>\n",
       "      <td>...</td>\n",
       "      <td>...</td>\n",
       "      <td>...</td>\n",
       "    </tr>\n",
       "    <tr>\n",
       "      <th>98660</th>\n",
       "      <td>8bd9c53ae5e194fd363ed6714235e6be</td>\n",
       "      <td>70b7e94ea46d3e8b5bc12a50186edaf0</td>\n",
       "      <td>274.84</td>\n",
       "      <td>2018-01-01</td>\n",
       "      <td>2018-01-01</td>\n",
       "      <td>2018-09-03</td>\n",
       "      <td>246</td>\n",
       "      <td>1</td>\n",
       "      <td>274.84</td>\n",
       "    </tr>\n",
       "    <tr>\n",
       "      <th>98661</th>\n",
       "      <td>99567d452c6589499a2ba8b0fd4658e5</td>\n",
       "      <td>996c7e73600ad3723e8627ab7bef81e4</td>\n",
       "      <td>664.43</td>\n",
       "      <td>2018-07-16</td>\n",
       "      <td>2018-07-16</td>\n",
       "      <td>2018-09-03</td>\n",
       "      <td>50</td>\n",
       "      <td>1</td>\n",
       "      <td>664.43</td>\n",
       "    </tr>\n",
       "    <tr>\n",
       "      <th>98662</th>\n",
       "      <td>b8b3c435a58aebd788a477bed8342910</td>\n",
       "      <td>70b742795bc441e94a44a084b6d9ce7a</td>\n",
       "      <td>578.82</td>\n",
       "      <td>2017-08-24</td>\n",
       "      <td>2017-08-24</td>\n",
       "      <td>2018-09-03</td>\n",
       "      <td>376</td>\n",
       "      <td>3</td>\n",
       "      <td>919.34</td>\n",
       "    </tr>\n",
       "    <tr>\n",
       "      <th>98663</th>\n",
       "      <td>6f90ec5150be36c4475835b5941ab56f</td>\n",
       "      <td>6e5fe7366a2e1bfbf3257dba0af1267f</td>\n",
       "      <td>406.92</td>\n",
       "      <td>2016-10-09</td>\n",
       "      <td>2016-10-09</td>\n",
       "      <td>2018-09-03</td>\n",
       "      <td>695</td>\n",
       "      <td>1</td>\n",
       "      <td>406.92</td>\n",
       "    </tr>\n",
       "    <tr>\n",
       "      <th>98664</th>\n",
       "      <td>3629a4b18f2eb69e03f153158e48d2cc</td>\n",
       "      <td>ce6d150fb29ada17d2082f4847107665</td>\n",
       "      <td>1586.47</td>\n",
       "      <td>2018-01-25</td>\n",
       "      <td>2018-01-25</td>\n",
       "      <td>2018-09-03</td>\n",
       "      <td>222</td>\n",
       "      <td>1</td>\n",
       "      <td>1586.47</td>\n",
       "    </tr>\n",
       "  </tbody>\n",
       "</table>\n",
       "<p>98665 rows × 9 columns</p>\n",
       "</div>"
      ],
      "text/plain": [
       "                     customer_unique_id                          order_id  \\\n",
       "0      f7b62c75467e8ce080b201667cbbc274  262118ce178bb3e4590a3adcf6d62e6b   \n",
       "1      d0b614ed8a43dca2f98a7c093723809d  fd33085945f15975375cd8ec85440511   \n",
       "2      71692b73230707ce0f95d8a6091c22b4  6e57e23ecac1ae881286657694444267   \n",
       "3      60ef1068bcbffaed11615482aeb7c8bf  4154bf1348caac78152fe76e3e9c4af8   \n",
       "4      8d43f7b8f33f60fb6ae5ec21072135b5  6dcf0aeb8b1eb4021c26e1d0e9394979   \n",
       "...                                 ...                               ...   \n",
       "98660  8bd9c53ae5e194fd363ed6714235e6be  70b7e94ea46d3e8b5bc12a50186edaf0   \n",
       "98661  99567d452c6589499a2ba8b0fd4658e5  996c7e73600ad3723e8627ab7bef81e4   \n",
       "98662  b8b3c435a58aebd788a477bed8342910  70b742795bc441e94a44a084b6d9ce7a   \n",
       "98663  6f90ec5150be36c4475835b5941ab56f  6e5fe7366a2e1bfbf3257dba0af1267f   \n",
       "98664  3629a4b18f2eb69e03f153158e48d2cc  ce6d150fb29ada17d2082f4847107665   \n",
       "\n",
       "       payment_value order_purchase_timestamp_NEW  \\\n",
       "0             126.12                   2016-10-06   \n",
       "1             212.82                   2018-08-20   \n",
       "2             333.91                   2018-08-09   \n",
       "3             150.27                   2018-08-23   \n",
       "4             318.97                   2018-08-09   \n",
       "...              ...                          ...   \n",
       "98660         274.84                   2018-01-01   \n",
       "98661         664.43                   2018-07-16   \n",
       "98662         578.82                   2017-08-24   \n",
       "98663         406.92                   2016-10-09   \n",
       "98664        1586.47                   2018-01-25   \n",
       "\n",
       "      Date_du_dernier_achat_par_client Dataset_last_day  R-recency  \\\n",
       "0                           2016-10-07       2018-09-03        697   \n",
       "1                           2018-08-20       2018-09-03         15   \n",
       "2                           2018-08-09       2018-09-03         26   \n",
       "3                           2018-08-23       2018-09-03         12   \n",
       "4                           2018-08-09       2018-09-03         26   \n",
       "...                                ...              ...        ...   \n",
       "98660                       2018-01-01       2018-09-03        246   \n",
       "98661                       2018-07-16       2018-09-03         50   \n",
       "98662                       2017-08-24       2018-09-03        376   \n",
       "98663                       2016-10-09       2018-09-03        695   \n",
       "98664                       2018-01-25       2018-09-03        222   \n",
       "\n",
       "       F-frequency  M-monetary  \n",
       "0                2      168.05  \n",
       "1                1      212.82  \n",
       "2                1      333.91  \n",
       "3                1      150.27  \n",
       "4                1      318.97  \n",
       "...            ...         ...  \n",
       "98660            1      274.84  \n",
       "98661            1      664.43  \n",
       "98662            3      919.34  \n",
       "98663            1      406.92  \n",
       "98664            1     1586.47  \n",
       "\n",
       "[98665 rows x 9 columns]"
      ]
     },
     "execution_count": 21,
     "metadata": {},
     "output_type": "execute_result"
    }
   ],
   "source": [
    "df_t"
   ]
  },
  {
   "cell_type": "code",
   "execution_count": 22,
   "id": "c6aa38e4",
   "metadata": {},
   "outputs": [],
   "source": [
    "df_t['Date_du_dernier_achat_par_client']=pd.to_datetime(df_t['Date_du_dernier_achat_par_client'])"
   ]
  },
  {
   "cell_type": "code",
   "execution_count": 23,
   "id": "7592e228",
   "metadata": {},
   "outputs": [],
   "source": [
    "df_t['Dataset_last_day']=pd.to_datetime(df_t['Dataset_last_day'])"
   ]
  },
  {
   "cell_type": "code",
   "execution_count": 24,
   "id": "843f7c63",
   "metadata": {},
   "outputs": [],
   "source": [
    "df_t['order_purchase_timestamp_NEW']=pd.to_datetime(df_t['order_purchase_timestamp_NEW'])"
   ]
  },
  {
   "cell_type": "code",
   "execution_count": 25,
   "id": "7bd94f9d",
   "metadata": {},
   "outputs": [
    {
     "data": {
      "text/plain": [
       "customer_unique_id                          object\n",
       "order_id                                    object\n",
       "payment_value                              float64\n",
       "order_purchase_timestamp_NEW        datetime64[ns]\n",
       "Date_du_dernier_achat_par_client    datetime64[ns]\n",
       "Dataset_last_day                    datetime64[ns]\n",
       "R-recency                                    int64\n",
       "F-frequency                                  int64\n",
       "M-monetary                                 float64\n",
       "dtype: object"
      ]
     },
     "execution_count": 25,
     "metadata": {},
     "output_type": "execute_result"
    }
   ],
   "source": [
    "df_t.dtypes"
   ]
  },
  {
   "cell_type": "code",
   "execution_count": 26,
   "id": "9651acd4",
   "metadata": {},
   "outputs": [],
   "source": [
    "df_t['a']=df_t['Dataset_last_day']-df_t['Date_du_dernier_achat_par_client']"
   ]
  },
  {
   "cell_type": "code",
   "execution_count": 27,
   "id": "4e78b983",
   "metadata": {},
   "outputs": [],
   "source": [
    "df_t['diff_jours']=df_t['a'].dt.days"
   ]
  },
  {
   "cell_type": "code",
   "execution_count": 28,
   "id": "7298f093",
   "metadata": {},
   "outputs": [
    {
     "data": {
      "text/plain": [
       "customer_unique_id                           object\n",
       "order_id                                     object\n",
       "payment_value                               float64\n",
       "order_purchase_timestamp_NEW         datetime64[ns]\n",
       "Date_du_dernier_achat_par_client     datetime64[ns]\n",
       "Dataset_last_day                     datetime64[ns]\n",
       "R-recency                                     int64\n",
       "F-frequency                                   int64\n",
       "M-monetary                                  float64\n",
       "a                                   timedelta64[ns]\n",
       "diff_jours                                    int64\n",
       "dtype: object"
      ]
     },
     "execution_count": 28,
     "metadata": {},
     "output_type": "execute_result"
    }
   ],
   "source": [
    "df_t.dtypes"
   ]
  },
  {
   "cell_type": "code",
   "execution_count": null,
   "id": "68186620",
   "metadata": {},
   "outputs": [],
   "source": [
    "#---------------------------------------------------------------------------------------------------------------------------\n",
    "#SANS RECALCUL DES VARIABLES RFM\n",
    "\n",
    "#B Entraînement du modèle sur la base complète. "
   ]
  },
  {
   "cell_type": "code",
   "execution_count": 29,
   "id": "71d3f254",
   "metadata": {},
   "outputs": [],
   "source": [
    "RFM_1=df_s.loc[:,['R-recency','F-frequency','M-monetary']]"
   ]
  },
  {
   "cell_type": "code",
   "execution_count": 30,
   "id": "b5ba0bea",
   "metadata": {
    "scrolled": true
   },
   "outputs": [
    {
     "data": {
      "text/html": [
       "<div>\n",
       "<style scoped>\n",
       "    .dataframe tbody tr th:only-of-type {\n",
       "        vertical-align: middle;\n",
       "    }\n",
       "\n",
       "    .dataframe tbody tr th {\n",
       "        vertical-align: top;\n",
       "    }\n",
       "\n",
       "    .dataframe thead th {\n",
       "        text-align: right;\n",
       "    }\n",
       "</style>\n",
       "<table border=\"1\" class=\"dataframe\">\n",
       "  <thead>\n",
       "    <tr style=\"text-align: right;\">\n",
       "      <th></th>\n",
       "      <th>customer_unique_id</th>\n",
       "      <th>Date_du_dernier_achat_par_client</th>\n",
       "      <th>Dataset_last_day</th>\n",
       "      <th>R-recency</th>\n",
       "      <th>F-frequency</th>\n",
       "      <th>M-monetary</th>\n",
       "      <th>a</th>\n",
       "      <th>diff_jours</th>\n",
       "      <th>Cluster1</th>\n",
       "    </tr>\n",
       "  </thead>\n",
       "  <tbody>\n",
       "    <tr>\n",
       "      <th>0</th>\n",
       "      <td>f7b62c75467e8ce080b201667cbbc274</td>\n",
       "      <td>2016-10-07</td>\n",
       "      <td>2018-09-03</td>\n",
       "      <td>697</td>\n",
       "      <td>2</td>\n",
       "      <td>168.05</td>\n",
       "      <td>696 days</td>\n",
       "      <td>696</td>\n",
       "      <td>2</td>\n",
       "    </tr>\n",
       "    <tr>\n",
       "      <th>1</th>\n",
       "      <td>d0b614ed8a43dca2f98a7c093723809d</td>\n",
       "      <td>2018-08-20</td>\n",
       "      <td>2018-09-03</td>\n",
       "      <td>15</td>\n",
       "      <td>1</td>\n",
       "      <td>212.82</td>\n",
       "      <td>14 days</td>\n",
       "      <td>14</td>\n",
       "      <td>0</td>\n",
       "    </tr>\n",
       "    <tr>\n",
       "      <th>2</th>\n",
       "      <td>71692b73230707ce0f95d8a6091c22b4</td>\n",
       "      <td>2018-08-09</td>\n",
       "      <td>2018-09-03</td>\n",
       "      <td>26</td>\n",
       "      <td>1</td>\n",
       "      <td>333.91</td>\n",
       "      <td>25 days</td>\n",
       "      <td>25</td>\n",
       "      <td>0</td>\n",
       "    </tr>\n",
       "    <tr>\n",
       "      <th>3</th>\n",
       "      <td>60ef1068bcbffaed11615482aeb7c8bf</td>\n",
       "      <td>2018-08-23</td>\n",
       "      <td>2018-09-03</td>\n",
       "      <td>12</td>\n",
       "      <td>1</td>\n",
       "      <td>150.27</td>\n",
       "      <td>11 days</td>\n",
       "      <td>11</td>\n",
       "      <td>0</td>\n",
       "    </tr>\n",
       "    <tr>\n",
       "      <th>4</th>\n",
       "      <td>8d43f7b8f33f60fb6ae5ec21072135b5</td>\n",
       "      <td>2018-08-09</td>\n",
       "      <td>2018-09-03</td>\n",
       "      <td>26</td>\n",
       "      <td>1</td>\n",
       "      <td>318.97</td>\n",
       "      <td>25 days</td>\n",
       "      <td>25</td>\n",
       "      <td>0</td>\n",
       "    </tr>\n",
       "    <tr>\n",
       "      <th>...</th>\n",
       "      <td>...</td>\n",
       "      <td>...</td>\n",
       "      <td>...</td>\n",
       "      <td>...</td>\n",
       "      <td>...</td>\n",
       "      <td>...</td>\n",
       "      <td>...</td>\n",
       "      <td>...</td>\n",
       "      <td>...</td>\n",
       "    </tr>\n",
       "    <tr>\n",
       "      <th>98658</th>\n",
       "      <td>e20f982ec35a961d9e018e56e47e7778</td>\n",
       "      <td>2018-02-14</td>\n",
       "      <td>2018-09-03</td>\n",
       "      <td>202</td>\n",
       "      <td>1</td>\n",
       "      <td>466.97</td>\n",
       "      <td>201 days</td>\n",
       "      <td>201</td>\n",
       "      <td>0</td>\n",
       "    </tr>\n",
       "    <tr>\n",
       "      <th>98660</th>\n",
       "      <td>8bd9c53ae5e194fd363ed6714235e6be</td>\n",
       "      <td>2018-01-01</td>\n",
       "      <td>2018-09-03</td>\n",
       "      <td>246</td>\n",
       "      <td>1</td>\n",
       "      <td>274.84</td>\n",
       "      <td>245 days</td>\n",
       "      <td>245</td>\n",
       "      <td>0</td>\n",
       "    </tr>\n",
       "    <tr>\n",
       "      <th>98661</th>\n",
       "      <td>99567d452c6589499a2ba8b0fd4658e5</td>\n",
       "      <td>2018-07-16</td>\n",
       "      <td>2018-09-03</td>\n",
       "      <td>50</td>\n",
       "      <td>1</td>\n",
       "      <td>664.43</td>\n",
       "      <td>49 days</td>\n",
       "      <td>49</td>\n",
       "      <td>1</td>\n",
       "    </tr>\n",
       "    <tr>\n",
       "      <th>98663</th>\n",
       "      <td>6f90ec5150be36c4475835b5941ab56f</td>\n",
       "      <td>2016-10-09</td>\n",
       "      <td>2018-09-03</td>\n",
       "      <td>695</td>\n",
       "      <td>1</td>\n",
       "      <td>406.92</td>\n",
       "      <td>694 days</td>\n",
       "      <td>694</td>\n",
       "      <td>2</td>\n",
       "    </tr>\n",
       "    <tr>\n",
       "      <th>98664</th>\n",
       "      <td>3629a4b18f2eb69e03f153158e48d2cc</td>\n",
       "      <td>2018-01-25</td>\n",
       "      <td>2018-09-03</td>\n",
       "      <td>222</td>\n",
       "      <td>1</td>\n",
       "      <td>1586.47</td>\n",
       "      <td>221 days</td>\n",
       "      <td>221</td>\n",
       "      <td>1</td>\n",
       "    </tr>\n",
       "  </tbody>\n",
       "</table>\n",
       "<p>95419 rows × 9 columns</p>\n",
       "</div>"
      ],
      "text/plain": [
       "                     customer_unique_id Date_du_dernier_achat_par_client  \\\n",
       "0      f7b62c75467e8ce080b201667cbbc274                       2016-10-07   \n",
       "1      d0b614ed8a43dca2f98a7c093723809d                       2018-08-20   \n",
       "2      71692b73230707ce0f95d8a6091c22b4                       2018-08-09   \n",
       "3      60ef1068bcbffaed11615482aeb7c8bf                       2018-08-23   \n",
       "4      8d43f7b8f33f60fb6ae5ec21072135b5                       2018-08-09   \n",
       "...                                 ...                              ...   \n",
       "98658  e20f982ec35a961d9e018e56e47e7778                       2018-02-14   \n",
       "98660  8bd9c53ae5e194fd363ed6714235e6be                       2018-01-01   \n",
       "98661  99567d452c6589499a2ba8b0fd4658e5                       2018-07-16   \n",
       "98663  6f90ec5150be36c4475835b5941ab56f                       2016-10-09   \n",
       "98664  3629a4b18f2eb69e03f153158e48d2cc                       2018-01-25   \n",
       "\n",
       "      Dataset_last_day  R-recency  F-frequency  M-monetary        a  \\\n",
       "0           2018-09-03        697            2      168.05 696 days   \n",
       "1           2018-09-03         15            1      212.82  14 days   \n",
       "2           2018-09-03         26            1      333.91  25 days   \n",
       "3           2018-09-03         12            1      150.27  11 days   \n",
       "4           2018-09-03         26            1      318.97  25 days   \n",
       "...                ...        ...          ...         ...      ...   \n",
       "98658       2018-09-03        202            1      466.97 201 days   \n",
       "98660       2018-09-03        246            1      274.84 245 days   \n",
       "98661       2018-09-03         50            1      664.43  49 days   \n",
       "98663       2018-09-03        695            1      406.92 694 days   \n",
       "98664       2018-09-03        222            1     1586.47 221 days   \n",
       "\n",
       "       diff_jours  Cluster1  \n",
       "0             696         2  \n",
       "1              14         0  \n",
       "2              25         0  \n",
       "3              11         0  \n",
       "4              25         0  \n",
       "...           ...       ...  \n",
       "98658         201         0  \n",
       "98660         245         0  \n",
       "98661          49         1  \n",
       "98663         694         2  \n",
       "98664         221         1  \n",
       "\n",
       "[95419 rows x 9 columns]"
      ]
     },
     "execution_count": 30,
     "metadata": {},
     "output_type": "execute_result"
    }
   ],
   "source": [
    "model=KMeans(n_clusters=3, random_state=1231).fit(RFM_1)\n",
    "df_s['Cluster1']=model.labels_\n",
    "df_s"
   ]
  },
  {
   "cell_type": "code",
   "execution_count": 31,
   "id": "36169e1c",
   "metadata": {},
   "outputs": [
    {
     "data": {
      "text/html": [
       "<div>\n",
       "<style scoped>\n",
       "    .dataframe tbody tr th:only-of-type {\n",
       "        vertical-align: middle;\n",
       "    }\n",
       "\n",
       "    .dataframe tbody tr th {\n",
       "        vertical-align: top;\n",
       "    }\n",
       "\n",
       "    .dataframe thead th {\n",
       "        text-align: right;\n",
       "    }\n",
       "</style>\n",
       "<table border=\"1\" class=\"dataframe\">\n",
       "  <thead>\n",
       "    <tr style=\"text-align: right;\">\n",
       "      <th></th>\n",
       "      <th>R-recency</th>\n",
       "      <th>F-frequency</th>\n",
       "      <th>M-monetary</th>\n",
       "      <th>a</th>\n",
       "      <th>diff_jours</th>\n",
       "      <th>Cluster1</th>\n",
       "    </tr>\n",
       "  </thead>\n",
       "  <tbody>\n",
       "    <tr>\n",
       "      <th>count</th>\n",
       "      <td>95419.000000</td>\n",
       "      <td>95419.000000</td>\n",
       "      <td>95419.000000</td>\n",
       "      <td>95419</td>\n",
       "      <td>95419.000000</td>\n",
       "      <td>95419.000000</td>\n",
       "    </tr>\n",
       "    <tr>\n",
       "      <th>mean</th>\n",
       "      <td>244.496484</td>\n",
       "      <td>1.034018</td>\n",
       "      <td>166.070491</td>\n",
       "      <td>243 days 11:54:56.211446360</td>\n",
       "      <td>243.496484</td>\n",
       "      <td>0.852912</td>\n",
       "    </tr>\n",
       "    <tr>\n",
       "      <th>std</th>\n",
       "      <td>153.153950</td>\n",
       "      <td>0.211235</td>\n",
       "      <td>228.341907</td>\n",
       "      <td>153 days 03:41:41.250940148</td>\n",
       "      <td>153.153950</td>\n",
       "      <td>0.971392</td>\n",
       "    </tr>\n",
       "    <tr>\n",
       "      <th>min</th>\n",
       "      <td>1.000000</td>\n",
       "      <td>1.000000</td>\n",
       "      <td>9.590000</td>\n",
       "      <td>0 days 00:00:00</td>\n",
       "      <td>0.000000</td>\n",
       "      <td>0.000000</td>\n",
       "    </tr>\n",
       "    <tr>\n",
       "      <th>25%</th>\n",
       "      <td>120.000000</td>\n",
       "      <td>1.000000</td>\n",
       "      <td>63.100000</td>\n",
       "      <td>119 days 00:00:00</td>\n",
       "      <td>119.000000</td>\n",
       "      <td>0.000000</td>\n",
       "    </tr>\n",
       "    <tr>\n",
       "      <th>50%</th>\n",
       "      <td>225.000000</td>\n",
       "      <td>1.000000</td>\n",
       "      <td>107.950000</td>\n",
       "      <td>224 days 00:00:00</td>\n",
       "      <td>224.000000</td>\n",
       "      <td>0.000000</td>\n",
       "    </tr>\n",
       "    <tr>\n",
       "      <th>75%</th>\n",
       "      <td>354.000000</td>\n",
       "      <td>1.000000</td>\n",
       "      <td>183.270000</td>\n",
       "      <td>353 days 00:00:00</td>\n",
       "      <td>353.000000</td>\n",
       "      <td>2.000000</td>\n",
       "    </tr>\n",
       "    <tr>\n",
       "      <th>max</th>\n",
       "      <td>730.000000</td>\n",
       "      <td>16.000000</td>\n",
       "      <td>13664.080000</td>\n",
       "      <td>729 days 00:00:00</td>\n",
       "      <td>729.000000</td>\n",
       "      <td>2.000000</td>\n",
       "    </tr>\n",
       "  </tbody>\n",
       "</table>\n",
       "</div>"
      ],
      "text/plain": [
       "          R-recency   F-frequency    M-monetary                            a  \\\n",
       "count  95419.000000  95419.000000  95419.000000                        95419   \n",
       "mean     244.496484      1.034018    166.070491  243 days 11:54:56.211446360   \n",
       "std      153.153950      0.211235    228.341907  153 days 03:41:41.250940148   \n",
       "min        1.000000      1.000000      9.590000              0 days 00:00:00   \n",
       "25%      120.000000      1.000000     63.100000            119 days 00:00:00   \n",
       "50%      225.000000      1.000000    107.950000            224 days 00:00:00   \n",
       "75%      354.000000      1.000000    183.270000            353 days 00:00:00   \n",
       "max      730.000000     16.000000  13664.080000            729 days 00:00:00   \n",
       "\n",
       "         diff_jours      Cluster1  \n",
       "count  95419.000000  95419.000000  \n",
       "mean     243.496484      0.852912  \n",
       "std      153.153950      0.971392  \n",
       "min        0.000000      0.000000  \n",
       "25%      119.000000      0.000000  \n",
       "50%      224.000000      0.000000  \n",
       "75%      353.000000      2.000000  \n",
       "max      729.000000      2.000000  "
      ]
     },
     "execution_count": 31,
     "metadata": {},
     "output_type": "execute_result"
    }
   ],
   "source": [
    "df_s.describe()"
   ]
  },
  {
   "cell_type": "code",
   "execution_count": null,
   "id": "08feca2f",
   "metadata": {},
   "outputs": [],
   "source": [
    "#On a comme max 729/7=104.14 semaines (ie. un peu plus de 104 semaines).\n",
    "\n",
    "\n",
    "\n",
    "#C. Étude de la prédiction.\n",
    "\n",
    "#Afin d'avoir des résultats robustes, il faut que les intervalles de temps considérés soient 'courts mais pas trop'.\n",
    "#Vu notre période de temps qui va de septembre 2016, jusqu'à septembre 2018, l'analyse des prédictions toutes les semaines\n",
    "#semble adéquat.\n",
    "#On a décidé, pour se faire, de considérer l'entraînement sur la base entière et ensuite on procédera à reculons pour les\n",
    "#prédictions. Ainsi on enlèvera à chaque prédiction les semaines précédentes.\n",
    "\n",
    "#Moins 1ère semaine."
   ]
  },
  {
   "cell_type": "code",
   "execution_count": 32,
   "id": "47d86179",
   "metadata": {},
   "outputs": [
    {
     "data": {
      "text/plain": [
       "customer_unique_id                  95302\n",
       "Date_du_dernier_achat_par_client    95302\n",
       "Dataset_last_day                    95302\n",
       "R-recency                           95302\n",
       "F-frequency                         95302\n",
       "M-monetary                          95302\n",
       "a                                   95302\n",
       "diff_jours                          95302\n",
       "Cluster1                            95302\n",
       "dtype: int64"
      ]
     },
     "execution_count": 32,
     "metadata": {},
     "output_type": "execute_result"
    }
   ],
   "source": [
    "df_s2=df_s.loc[(df_s['diff_jours'] >7)]\n",
    "df_s2.count()"
   ]
  },
  {
   "cell_type": "code",
   "execution_count": 33,
   "id": "c59decc0",
   "metadata": {},
   "outputs": [
    {
     "data": {
      "text/plain": [
       "R-recency      95302\n",
       "F-frequency    95302\n",
       "M-monetary     95302\n",
       "dtype: int64"
      ]
     },
     "execution_count": 33,
     "metadata": {},
     "output_type": "execute_result"
    }
   ],
   "source": [
    "RFM_2=df_s2.loc[:,['R-recency','F-frequency','M-monetary']]\n",
    "RFM_2.count()"
   ]
  },
  {
   "cell_type": "code",
   "execution_count": 34,
   "id": "04a046fc",
   "metadata": {},
   "outputs": [],
   "source": [
    "prediction_1=model.predict(RFM_2)"
   ]
  },
  {
   "cell_type": "code",
   "execution_count": null,
   "id": "5119640f",
   "metadata": {},
   "outputs": [],
   "source": [
    "#On a comme max 729/7=104.14 semaines (ie. un peu plus de 104 semaines).\n",
    "\n",
    "\n",
    "\n",
    "#C. Étude de la prédiction.\n",
    "\n",
    "#Afin d'avoir des résultats robustes, il faut que les intervalles de temps considérés soient 'courts mais pas trop'.\n",
    "#Vu notre période de temps qui va de septembre 2016, jusqu'à septembre 2018, l'analyse des prédictions toutes les semaines\n",
    "#semble adéquat.\n",
    "#On a décidé, pour se faire, de considérer l'entraînement sur la base entière et ensuite on procédera à reculons pour les\n",
    "#prédictions. Ainsi on enlèvera à chaque prédiction les semaines précédentes.\n",
    "\n",
    "#Moins 1ère semaine.prediction_1"
   ]
  },
  {
   "cell_type": "code",
   "execution_count": 35,
   "id": "124409d4",
   "metadata": {
    "scrolled": true
   },
   "outputs": [
    {
     "data": {
      "text/html": [
       "<div>\n",
       "<style scoped>\n",
       "    .dataframe tbody tr th:only-of-type {\n",
       "        vertical-align: middle;\n",
       "    }\n",
       "\n",
       "    .dataframe tbody tr th {\n",
       "        vertical-align: top;\n",
       "    }\n",
       "\n",
       "    .dataframe thead th {\n",
       "        text-align: right;\n",
       "    }\n",
       "</style>\n",
       "<table border=\"1\" class=\"dataframe\">\n",
       "  <thead>\n",
       "    <tr style=\"text-align: right;\">\n",
       "      <th></th>\n",
       "      <th>customer_unique_id</th>\n",
       "      <th>Date_du_dernier_achat_par_client</th>\n",
       "      <th>Dataset_last_day</th>\n",
       "      <th>R-recency</th>\n",
       "      <th>F-frequency</th>\n",
       "      <th>M-monetary</th>\n",
       "      <th>a</th>\n",
       "      <th>diff_jours</th>\n",
       "      <th>Cluster1</th>\n",
       "      <th>Cluster2</th>\n",
       "    </tr>\n",
       "  </thead>\n",
       "  <tbody>\n",
       "    <tr>\n",
       "      <th>0</th>\n",
       "      <td>f7b62c75467e8ce080b201667cbbc274</td>\n",
       "      <td>2016-10-07</td>\n",
       "      <td>2018-09-03</td>\n",
       "      <td>697</td>\n",
       "      <td>2</td>\n",
       "      <td>168.05</td>\n",
       "      <td>696 days</td>\n",
       "      <td>696</td>\n",
       "      <td>2</td>\n",
       "      <td>2</td>\n",
       "    </tr>\n",
       "    <tr>\n",
       "      <th>1</th>\n",
       "      <td>d0b614ed8a43dca2f98a7c093723809d</td>\n",
       "      <td>2018-08-20</td>\n",
       "      <td>2018-09-03</td>\n",
       "      <td>15</td>\n",
       "      <td>1</td>\n",
       "      <td>212.82</td>\n",
       "      <td>14 days</td>\n",
       "      <td>14</td>\n",
       "      <td>0</td>\n",
       "      <td>0</td>\n",
       "    </tr>\n",
       "    <tr>\n",
       "      <th>2</th>\n",
       "      <td>71692b73230707ce0f95d8a6091c22b4</td>\n",
       "      <td>2018-08-09</td>\n",
       "      <td>2018-09-03</td>\n",
       "      <td>26</td>\n",
       "      <td>1</td>\n",
       "      <td>333.91</td>\n",
       "      <td>25 days</td>\n",
       "      <td>25</td>\n",
       "      <td>0</td>\n",
       "      <td>0</td>\n",
       "    </tr>\n",
       "    <tr>\n",
       "      <th>3</th>\n",
       "      <td>60ef1068bcbffaed11615482aeb7c8bf</td>\n",
       "      <td>2018-08-23</td>\n",
       "      <td>2018-09-03</td>\n",
       "      <td>12</td>\n",
       "      <td>1</td>\n",
       "      <td>150.27</td>\n",
       "      <td>11 days</td>\n",
       "      <td>11</td>\n",
       "      <td>0</td>\n",
       "      <td>0</td>\n",
       "    </tr>\n",
       "    <tr>\n",
       "      <th>4</th>\n",
       "      <td>8d43f7b8f33f60fb6ae5ec21072135b5</td>\n",
       "      <td>2018-08-09</td>\n",
       "      <td>2018-09-03</td>\n",
       "      <td>26</td>\n",
       "      <td>1</td>\n",
       "      <td>318.97</td>\n",
       "      <td>25 days</td>\n",
       "      <td>25</td>\n",
       "      <td>0</td>\n",
       "      <td>0</td>\n",
       "    </tr>\n",
       "    <tr>\n",
       "      <th>...</th>\n",
       "      <td>...</td>\n",
       "      <td>...</td>\n",
       "      <td>...</td>\n",
       "      <td>...</td>\n",
       "      <td>...</td>\n",
       "      <td>...</td>\n",
       "      <td>...</td>\n",
       "      <td>...</td>\n",
       "      <td>...</td>\n",
       "      <td>...</td>\n",
       "    </tr>\n",
       "    <tr>\n",
       "      <th>98658</th>\n",
       "      <td>e20f982ec35a961d9e018e56e47e7778</td>\n",
       "      <td>2018-02-14</td>\n",
       "      <td>2018-09-03</td>\n",
       "      <td>202</td>\n",
       "      <td>1</td>\n",
       "      <td>466.97</td>\n",
       "      <td>201 days</td>\n",
       "      <td>201</td>\n",
       "      <td>0</td>\n",
       "      <td>0</td>\n",
       "    </tr>\n",
       "    <tr>\n",
       "      <th>98660</th>\n",
       "      <td>8bd9c53ae5e194fd363ed6714235e6be</td>\n",
       "      <td>2018-01-01</td>\n",
       "      <td>2018-09-03</td>\n",
       "      <td>246</td>\n",
       "      <td>1</td>\n",
       "      <td>274.84</td>\n",
       "      <td>245 days</td>\n",
       "      <td>245</td>\n",
       "      <td>0</td>\n",
       "      <td>0</td>\n",
       "    </tr>\n",
       "    <tr>\n",
       "      <th>98661</th>\n",
       "      <td>99567d452c6589499a2ba8b0fd4658e5</td>\n",
       "      <td>2018-07-16</td>\n",
       "      <td>2018-09-03</td>\n",
       "      <td>50</td>\n",
       "      <td>1</td>\n",
       "      <td>664.43</td>\n",
       "      <td>49 days</td>\n",
       "      <td>49</td>\n",
       "      <td>1</td>\n",
       "      <td>1</td>\n",
       "    </tr>\n",
       "    <tr>\n",
       "      <th>98663</th>\n",
       "      <td>6f90ec5150be36c4475835b5941ab56f</td>\n",
       "      <td>2016-10-09</td>\n",
       "      <td>2018-09-03</td>\n",
       "      <td>695</td>\n",
       "      <td>1</td>\n",
       "      <td>406.92</td>\n",
       "      <td>694 days</td>\n",
       "      <td>694</td>\n",
       "      <td>2</td>\n",
       "      <td>2</td>\n",
       "    </tr>\n",
       "    <tr>\n",
       "      <th>98664</th>\n",
       "      <td>3629a4b18f2eb69e03f153158e48d2cc</td>\n",
       "      <td>2018-01-25</td>\n",
       "      <td>2018-09-03</td>\n",
       "      <td>222</td>\n",
       "      <td>1</td>\n",
       "      <td>1586.47</td>\n",
       "      <td>221 days</td>\n",
       "      <td>221</td>\n",
       "      <td>1</td>\n",
       "      <td>1</td>\n",
       "    </tr>\n",
       "  </tbody>\n",
       "</table>\n",
       "<p>95302 rows × 10 columns</p>\n",
       "</div>"
      ],
      "text/plain": [
       "                     customer_unique_id Date_du_dernier_achat_par_client  \\\n",
       "0      f7b62c75467e8ce080b201667cbbc274                       2016-10-07   \n",
       "1      d0b614ed8a43dca2f98a7c093723809d                       2018-08-20   \n",
       "2      71692b73230707ce0f95d8a6091c22b4                       2018-08-09   \n",
       "3      60ef1068bcbffaed11615482aeb7c8bf                       2018-08-23   \n",
       "4      8d43f7b8f33f60fb6ae5ec21072135b5                       2018-08-09   \n",
       "...                                 ...                              ...   \n",
       "98658  e20f982ec35a961d9e018e56e47e7778                       2018-02-14   \n",
       "98660  8bd9c53ae5e194fd363ed6714235e6be                       2018-01-01   \n",
       "98661  99567d452c6589499a2ba8b0fd4658e5                       2018-07-16   \n",
       "98663  6f90ec5150be36c4475835b5941ab56f                       2016-10-09   \n",
       "98664  3629a4b18f2eb69e03f153158e48d2cc                       2018-01-25   \n",
       "\n",
       "      Dataset_last_day  R-recency  F-frequency  M-monetary        a  \\\n",
       "0           2018-09-03        697            2      168.05 696 days   \n",
       "1           2018-09-03         15            1      212.82  14 days   \n",
       "2           2018-09-03         26            1      333.91  25 days   \n",
       "3           2018-09-03         12            1      150.27  11 days   \n",
       "4           2018-09-03         26            1      318.97  25 days   \n",
       "...                ...        ...          ...         ...      ...   \n",
       "98658       2018-09-03        202            1      466.97 201 days   \n",
       "98660       2018-09-03        246            1      274.84 245 days   \n",
       "98661       2018-09-03         50            1      664.43  49 days   \n",
       "98663       2018-09-03        695            1      406.92 694 days   \n",
       "98664       2018-09-03        222            1     1586.47 221 days   \n",
       "\n",
       "       diff_jours  Cluster1  Cluster2  \n",
       "0             696         2         2  \n",
       "1              14         0         0  \n",
       "2              25         0         0  \n",
       "3              11         0         0  \n",
       "4              25         0         0  \n",
       "...           ...       ...       ...  \n",
       "98658         201         0         0  \n",
       "98660         245         0         0  \n",
       "98661          49         1         1  \n",
       "98663         694         2         2  \n",
       "98664         221         1         1  \n",
       "\n",
       "[95302 rows x 10 columns]"
      ]
     },
     "execution_count": 35,
     "metadata": {},
     "output_type": "execute_result"
    }
   ],
   "source": [
    "df_s2['Cluster2']=prediction_1\n",
    "df_s2"
   ]
  },
  {
   "cell_type": "code",
   "execution_count": 36,
   "id": "1822c87b",
   "metadata": {},
   "outputs": [
    {
     "data": {
      "text/plain": [
       "1.0"
      ]
     },
     "execution_count": 36,
     "metadata": {},
     "output_type": "execute_result"
    }
   ],
   "source": [
    "results_2=adjusted_rand_score(df_s2['Cluster2'], df_s2['Cluster1'])\n",
    "results_2"
   ]
  },
  {
   "cell_type": "code",
   "execution_count": null,
   "id": "66d9313b",
   "metadata": {},
   "outputs": [],
   "source": [
    "#Moins 100 semaines."
   ]
  },
  {
   "cell_type": "code",
   "execution_count": 37,
   "id": "5e6fbd6d",
   "metadata": {},
   "outputs": [
    {
     "data": {
      "text/plain": [
       "customer_unique_id                  3\n",
       "Date_du_dernier_achat_par_client    3\n",
       "Dataset_last_day                    3\n",
       "R-recency                           3\n",
       "F-frequency                         3\n",
       "M-monetary                          3\n",
       "a                                   3\n",
       "diff_jours                          3\n",
       "Cluster1                            3\n",
       "dtype: int64"
      ]
     },
     "execution_count": 37,
     "metadata": {},
     "output_type": "execute_result"
    }
   ],
   "source": [
    "df_sa=df_s.loc[(df_s['diff_jours'] >700)]\n",
    "df_sa.count()"
   ]
  },
  {
   "cell_type": "code",
   "execution_count": 38,
   "id": "6b5f8659",
   "metadata": {},
   "outputs": [
    {
     "data": {
      "text/plain": [
       "R-recency      3\n",
       "F-frequency    3\n",
       "M-monetary     3\n",
       "dtype: int64"
      ]
     },
     "execution_count": 38,
     "metadata": {},
     "output_type": "execute_result"
    }
   ],
   "source": [
    "RFM_a=df_sa.loc[:,['R-recency','F-frequency','M-monetary']]\n",
    "RFM_a.count()"
   ]
  },
  {
   "cell_type": "code",
   "execution_count": 39,
   "id": "67a29c5b",
   "metadata": {},
   "outputs": [],
   "source": [
    "prediction_1=model.predict(RFM_a)"
   ]
  },
  {
   "cell_type": "code",
   "execution_count": 40,
   "id": "d71ecf8c",
   "metadata": {},
   "outputs": [
    {
     "data": {
      "text/plain": [
       "array([2, 2, 2])"
      ]
     },
     "execution_count": 40,
     "metadata": {},
     "output_type": "execute_result"
    }
   ],
   "source": [
    "prediction_1"
   ]
  },
  {
   "cell_type": "code",
   "execution_count": 41,
   "id": "ad902332",
   "metadata": {},
   "outputs": [
    {
     "data": {
      "text/html": [
       "<div>\n",
       "<style scoped>\n",
       "    .dataframe tbody tr th:only-of-type {\n",
       "        vertical-align: middle;\n",
       "    }\n",
       "\n",
       "    .dataframe tbody tr th {\n",
       "        vertical-align: top;\n",
       "    }\n",
       "\n",
       "    .dataframe thead th {\n",
       "        text-align: right;\n",
       "    }\n",
       "</style>\n",
       "<table border=\"1\" class=\"dataframe\">\n",
       "  <thead>\n",
       "    <tr style=\"text-align: right;\">\n",
       "      <th></th>\n",
       "      <th>customer_unique_id</th>\n",
       "      <th>Date_du_dernier_achat_par_client</th>\n",
       "      <th>Dataset_last_day</th>\n",
       "      <th>R-recency</th>\n",
       "      <th>F-frequency</th>\n",
       "      <th>M-monetary</th>\n",
       "      <th>a</th>\n",
       "      <th>diff_jours</th>\n",
       "      <th>Cluster1</th>\n",
       "      <th>Clustera</th>\n",
       "    </tr>\n",
       "  </thead>\n",
       "  <tbody>\n",
       "    <tr>\n",
       "      <th>3774</th>\n",
       "      <td>b7d76e111c89f7ebf14761390f0f7d17</td>\n",
       "      <td>2016-09-04</td>\n",
       "      <td>2018-09-03</td>\n",
       "      <td>730</td>\n",
       "      <td>1</td>\n",
       "      <td>136.23</td>\n",
       "      <td>729 days</td>\n",
       "      <td>729</td>\n",
       "      <td>2</td>\n",
       "      <td>2</td>\n",
       "    </tr>\n",
       "    <tr>\n",
       "      <th>28121</th>\n",
       "      <td>4854e9b3feff728c13ee5fc7d1547e92</td>\n",
       "      <td>2016-09-05</td>\n",
       "      <td>2018-09-03</td>\n",
       "      <td>729</td>\n",
       "      <td>1</td>\n",
       "      <td>75.06</td>\n",
       "      <td>728 days</td>\n",
       "      <td>728</td>\n",
       "      <td>2</td>\n",
       "      <td>2</td>\n",
       "    </tr>\n",
       "    <tr>\n",
       "      <th>79518</th>\n",
       "      <td>0eb1ee9dba87f5b36b4613a65074337c</td>\n",
       "      <td>2016-10-02</td>\n",
       "      <td>2018-09-03</td>\n",
       "      <td>702</td>\n",
       "      <td>1</td>\n",
       "      <td>109.34</td>\n",
       "      <td>701 days</td>\n",
       "      <td>701</td>\n",
       "      <td>2</td>\n",
       "      <td>2</td>\n",
       "    </tr>\n",
       "  </tbody>\n",
       "</table>\n",
       "</div>"
      ],
      "text/plain": [
       "                     customer_unique_id Date_du_dernier_achat_par_client  \\\n",
       "3774   b7d76e111c89f7ebf14761390f0f7d17                       2016-09-04   \n",
       "28121  4854e9b3feff728c13ee5fc7d1547e92                       2016-09-05   \n",
       "79518  0eb1ee9dba87f5b36b4613a65074337c                       2016-10-02   \n",
       "\n",
       "      Dataset_last_day  R-recency  F-frequency  M-monetary        a  \\\n",
       "3774        2018-09-03        730            1      136.23 729 days   \n",
       "28121       2018-09-03        729            1       75.06 728 days   \n",
       "79518       2018-09-03        702            1      109.34 701 days   \n",
       "\n",
       "       diff_jours  Cluster1  Clustera  \n",
       "3774          729         2         2  \n",
       "28121         728         2         2  \n",
       "79518         701         2         2  "
      ]
     },
     "execution_count": 41,
     "metadata": {},
     "output_type": "execute_result"
    }
   ],
   "source": [
    "df_sa['Clustera']=prediction_1\n",
    "df_sa"
   ]
  },
  {
   "cell_type": "code",
   "execution_count": 42,
   "id": "ac616702",
   "metadata": {},
   "outputs": [
    {
     "data": {
      "text/plain": [
       "1.0"
      ]
     },
     "execution_count": 42,
     "metadata": {},
     "output_type": "execute_result"
    }
   ],
   "source": [
    "results_2=adjusted_rand_score(df_s2['Cluster2'], df_s2['Cluster1'])\n",
    "results_2"
   ]
  },
  {
   "cell_type": "code",
   "execution_count": null,
   "id": "d551da4e",
   "metadata": {},
   "outputs": [],
   "source": [
    "#Automatisation"
   ]
  },
  {
   "cell_type": "code",
   "execution_count": 43,
   "id": "55473af2",
   "metadata": {
    "scrolled": true
   },
   "outputs": [
    {
     "name": "stdout",
     "output_type": "stream",
     "text": [
      "ARI entre les clusters\n",
      "Semaine   ARI\n",
      "_____________________________________________________\n",
      "-1 sem. 1.0\n",
      "-2 sem. 1.0\n",
      "-3 sem. 1.0\n",
      "-4 sem. 1.0\n",
      "-5 sem. 1.0\n",
      "-6 sem. 1.0\n",
      "-7 sem. 1.0\n",
      "-8 sem. 1.0\n",
      "-9 sem. 1.0\n",
      "-10 sem. 1.0\n",
      "-11 sem. 1.0\n",
      "-12 sem. 1.0\n",
      "-13 sem. 1.0\n",
      "-14 sem. 1.0\n",
      "-15 sem. 1.0\n",
      "-16 sem. 1.0\n",
      "-17 sem. 1.0\n",
      "-18 sem. 1.0\n",
      "-19 sem. 1.0\n",
      "-20 sem. 1.0\n",
      "-21 sem. 1.0\n",
      "-22 sem. 1.0\n",
      "-23 sem. 1.0\n",
      "-24 sem. 1.0\n",
      "-25 sem. 1.0\n",
      "-26 sem. 1.0\n",
      "-27 sem. 1.0\n",
      "-28 sem. 1.0\n",
      "-29 sem. 1.0\n",
      "-30 sem. 1.0\n",
      "-31 sem. 1.0\n",
      "-32 sem. 1.0\n",
      "-33 sem. 1.0\n",
      "-34 sem. 1.0\n",
      "-35 sem. 1.0\n",
      "-36 sem. 1.0\n",
      "-37 sem. 1.0\n",
      "-38 sem. 1.0\n",
      "-39 sem. 1.0\n",
      "-40 sem. 1.0\n",
      "-41 sem. 1.0\n",
      "-42 sem. 1.0\n",
      "-43 sem. 1.0\n",
      "-44 sem. 1.0\n",
      "-45 sem. 1.0\n",
      "-46 sem. 1.0\n",
      "-47 sem. 1.0\n",
      "-48 sem. 1.0\n",
      "-49 sem. 1.0\n",
      "-50 sem. 1.0\n",
      "-51 sem. 1.0\n",
      "-52 sem. 1.0\n",
      "-53 sem. 1.0\n",
      "-54 sem. 1.0\n",
      "-55 sem. 1.0\n",
      "-56 sem. 1.0\n",
      "-57 sem. 1.0\n",
      "-58 sem. 1.0\n",
      "-59 sem. 1.0\n",
      "-60 sem. 1.0\n",
      "-61 sem. 1.0\n",
      "-62 sem. 1.0\n",
      "-63 sem. 1.0\n",
      "-64 sem. 1.0\n",
      "-65 sem. 1.0\n",
      "-66 sem. 1.0\n",
      "-67 sem. 1.0\n",
      "-68 sem. 1.0\n",
      "-69 sem. 1.0\n",
      "-70 sem. 1.0\n",
      "-71 sem. 1.0\n",
      "-72 sem. 1.0\n",
      "-73 sem. 1.0\n",
      "-74 sem. 1.0\n",
      "-75 sem. 1.0\n",
      "-76 sem. 1.0\n",
      "-77 sem. 1.0\n",
      "-78 sem. 1.0\n",
      "-79 sem. 1.0\n",
      "-80 sem. 1.0\n",
      "-81 sem. 1.0\n",
      "-82 sem. 1.0\n",
      "-83 sem. 1.0\n",
      "-84 sem. 1.0\n",
      "-85 sem. 1.0\n",
      "-86 sem. 1.0\n",
      "-87 sem. 1.0\n",
      "-88 sem. 1.0\n",
      "-89 sem. 1.0\n",
      "-90 sem. 1.0\n",
      "-91 sem. 1.0\n",
      "-92 sem. 1.0\n",
      "-93 sem. 1.0\n",
      "-94 sem. 1.0\n",
      "-95 sem. 1.0\n",
      "-96 sem. 1.0\n",
      "-97 sem. 1.0\n",
      "-98 sem. 1.0\n",
      "-99 sem. 1.0\n",
      "-100 sem. 1.0\n",
      "-101 sem. 1.0\n",
      "-102 sem. 1.0\n",
      "-103 sem. 1.0\n"
     ]
    }
   ],
   "source": [
    "print(\"ARI entre les clusters\")\n",
    "print('Semaine   ARI')\n",
    "print(53 * '_')\n",
    "\n",
    "for i in range(103):\n",
    "    df_s2=df_s.loc[(df_s['diff_jours'] >=7*(i+1))]\n",
    "    RFM_2=df_s2.loc[:,['R-recency','F-frequency','M-monetary']]\n",
    "    prediction_2=model.predict(RFM_2)\n",
    "    df_s2['Cluster2']=prediction_2\n",
    "    \n",
    "    name=\"-\"+str(i+1)+\" sem.\"\n",
    "    res= adjusted_rand_score(df_s2['Cluster1'], df_s2['Cluster2'])\n",
    "    results = [name, res]\n",
    "    \n",
    "    print(*results)"
   ]
  },
  {
   "cell_type": "code",
   "execution_count": null,
   "id": "0e0d1da3",
   "metadata": {},
   "outputs": [],
   "source": [
    "#On ne voit pas de changement, quelque chose va mal, et c'est le fait que les variables RFM dépendent du data set, et si on\n",
    "#enlève des semaines il faut les recalculer forcément. En fait pour rappel:\n",
    "\n",
    "            # R (recency) — A quand remonte le dernier achat de chaque client? (ie. Durée depuis le dernier achat). \n",
    "            #              (Date de dernière commande du dataset entier +1 jour)-(date de la dernière commande).\n",
    "\n",
    "            # F (frequency) — Combien de fois un client a-t-il passé des commandes pendant la période d'analyse?\n",
    "            #                (Nombre de commandes sur la période d'analyse sélectionnée pour chaque client).\n",
    "\n",
    "            # M (monetary) — Combien un client a-t-il dépensé au cours de la période analysée?\n",
    "            #                Somme du montant des achats sur la période de temps pour chaque client.\n",
    "\n",
    "#On va donc reprendre le base avant les calculs des variables RFM et les recalcules à chaque fois."
   ]
  },
  {
   "cell_type": "code",
   "execution_count": null,
   "id": "ce2e8b45",
   "metadata": {},
   "outputs": [],
   "source": [
    "#-----------------------------------------------------------------"
   ]
  },
  {
   "cell_type": "code",
   "execution_count": null,
   "id": "64c20abc",
   "metadata": {},
   "outputs": [],
   "source": [
    "#---------------------------------------------------------------------------------------------------------------------------\n",
    "#AVEC RECALCUL DES VARIABLES RFM\n",
    "#Option 1: comparaison \"Cluster1\" -> cluster résultant du modèle sur base complète, avec \"Cluster2\" -> cluster résultant du\n",
    "#.predict du modèle calculé sur base complète, mais appliqué sur la base sans x semaines.\n",
    "\n",
    "#B Entraînement du modèle sur la base complète. \n",
    "\n",
    "#On va devoir regrouper par client, car la base ne l'est pas afin de pouvoir calculer à chaque fois qu'on enlève une \n",
    "#semaine la variable 'M-monetary' qui dépend du nombre de commander passées dans la période d'analyse. Néanmoins, on ne fait\n",
    "#pas le regroupement en tout premier lieu afin d'avoir la clustérisation de référence ('Cluster1') associée à toutes les \n",
    "#lignes (même les doublons)."
   ]
  },
  {
   "cell_type": "code",
   "execution_count": 44,
   "id": "10753b98",
   "metadata": {},
   "outputs": [],
   "source": [
    "RFM_1=df_t.loc[:,['R-recency','F-frequency','M-monetary']]"
   ]
  },
  {
   "cell_type": "code",
   "execution_count": 45,
   "id": "bb197791",
   "metadata": {
    "scrolled": true
   },
   "outputs": [
    {
     "data": {
      "text/html": [
       "<div>\n",
       "<style scoped>\n",
       "    .dataframe tbody tr th:only-of-type {\n",
       "        vertical-align: middle;\n",
       "    }\n",
       "\n",
       "    .dataframe tbody tr th {\n",
       "        vertical-align: top;\n",
       "    }\n",
       "\n",
       "    .dataframe thead th {\n",
       "        text-align: right;\n",
       "    }\n",
       "</style>\n",
       "<table border=\"1\" class=\"dataframe\">\n",
       "  <thead>\n",
       "    <tr style=\"text-align: right;\">\n",
       "      <th></th>\n",
       "      <th>customer_unique_id</th>\n",
       "      <th>order_id</th>\n",
       "      <th>payment_value</th>\n",
       "      <th>order_purchase_timestamp_NEW</th>\n",
       "      <th>Date_du_dernier_achat_par_client</th>\n",
       "      <th>Dataset_last_day</th>\n",
       "      <th>R-recency</th>\n",
       "      <th>F-frequency</th>\n",
       "      <th>M-monetary</th>\n",
       "      <th>a</th>\n",
       "      <th>diff_jours</th>\n",
       "      <th>Cluster1</th>\n",
       "    </tr>\n",
       "  </thead>\n",
       "  <tbody>\n",
       "    <tr>\n",
       "      <th>0</th>\n",
       "      <td>f7b62c75467e8ce080b201667cbbc274</td>\n",
       "      <td>262118ce178bb3e4590a3adcf6d62e6b</td>\n",
       "      <td>126.12</td>\n",
       "      <td>2016-10-06</td>\n",
       "      <td>2016-10-07</td>\n",
       "      <td>2018-09-03</td>\n",
       "      <td>697</td>\n",
       "      <td>2</td>\n",
       "      <td>168.05</td>\n",
       "      <td>696 days</td>\n",
       "      <td>696</td>\n",
       "      <td>1</td>\n",
       "    </tr>\n",
       "    <tr>\n",
       "      <th>1</th>\n",
       "      <td>d0b614ed8a43dca2f98a7c093723809d</td>\n",
       "      <td>fd33085945f15975375cd8ec85440511</td>\n",
       "      <td>212.82</td>\n",
       "      <td>2018-08-20</td>\n",
       "      <td>2018-08-20</td>\n",
       "      <td>2018-09-03</td>\n",
       "      <td>15</td>\n",
       "      <td>1</td>\n",
       "      <td>212.82</td>\n",
       "      <td>14 days</td>\n",
       "      <td>14</td>\n",
       "      <td>0</td>\n",
       "    </tr>\n",
       "    <tr>\n",
       "      <th>2</th>\n",
       "      <td>71692b73230707ce0f95d8a6091c22b4</td>\n",
       "      <td>6e57e23ecac1ae881286657694444267</td>\n",
       "      <td>333.91</td>\n",
       "      <td>2018-08-09</td>\n",
       "      <td>2018-08-09</td>\n",
       "      <td>2018-09-03</td>\n",
       "      <td>26</td>\n",
       "      <td>1</td>\n",
       "      <td>333.91</td>\n",
       "      <td>25 days</td>\n",
       "      <td>25</td>\n",
       "      <td>0</td>\n",
       "    </tr>\n",
       "    <tr>\n",
       "      <th>3</th>\n",
       "      <td>60ef1068bcbffaed11615482aeb7c8bf</td>\n",
       "      <td>4154bf1348caac78152fe76e3e9c4af8</td>\n",
       "      <td>150.27</td>\n",
       "      <td>2018-08-23</td>\n",
       "      <td>2018-08-23</td>\n",
       "      <td>2018-09-03</td>\n",
       "      <td>12</td>\n",
       "      <td>1</td>\n",
       "      <td>150.27</td>\n",
       "      <td>11 days</td>\n",
       "      <td>11</td>\n",
       "      <td>0</td>\n",
       "    </tr>\n",
       "    <tr>\n",
       "      <th>4</th>\n",
       "      <td>8d43f7b8f33f60fb6ae5ec21072135b5</td>\n",
       "      <td>6dcf0aeb8b1eb4021c26e1d0e9394979</td>\n",
       "      <td>318.97</td>\n",
       "      <td>2018-08-09</td>\n",
       "      <td>2018-08-09</td>\n",
       "      <td>2018-09-03</td>\n",
       "      <td>26</td>\n",
       "      <td>1</td>\n",
       "      <td>318.97</td>\n",
       "      <td>25 days</td>\n",
       "      <td>25</td>\n",
       "      <td>0</td>\n",
       "    </tr>\n",
       "    <tr>\n",
       "      <th>...</th>\n",
       "      <td>...</td>\n",
       "      <td>...</td>\n",
       "      <td>...</td>\n",
       "      <td>...</td>\n",
       "      <td>...</td>\n",
       "      <td>...</td>\n",
       "      <td>...</td>\n",
       "      <td>...</td>\n",
       "      <td>...</td>\n",
       "      <td>...</td>\n",
       "      <td>...</td>\n",
       "      <td>...</td>\n",
       "    </tr>\n",
       "    <tr>\n",
       "      <th>98660</th>\n",
       "      <td>8bd9c53ae5e194fd363ed6714235e6be</td>\n",
       "      <td>70b7e94ea46d3e8b5bc12a50186edaf0</td>\n",
       "      <td>274.84</td>\n",
       "      <td>2018-01-01</td>\n",
       "      <td>2018-01-01</td>\n",
       "      <td>2018-09-03</td>\n",
       "      <td>246</td>\n",
       "      <td>1</td>\n",
       "      <td>274.84</td>\n",
       "      <td>245 days</td>\n",
       "      <td>245</td>\n",
       "      <td>0</td>\n",
       "    </tr>\n",
       "    <tr>\n",
       "      <th>98661</th>\n",
       "      <td>99567d452c6589499a2ba8b0fd4658e5</td>\n",
       "      <td>996c7e73600ad3723e8627ab7bef81e4</td>\n",
       "      <td>664.43</td>\n",
       "      <td>2018-07-16</td>\n",
       "      <td>2018-07-16</td>\n",
       "      <td>2018-09-03</td>\n",
       "      <td>50</td>\n",
       "      <td>1</td>\n",
       "      <td>664.43</td>\n",
       "      <td>49 days</td>\n",
       "      <td>49</td>\n",
       "      <td>2</td>\n",
       "    </tr>\n",
       "    <tr>\n",
       "      <th>98662</th>\n",
       "      <td>b8b3c435a58aebd788a477bed8342910</td>\n",
       "      <td>70b742795bc441e94a44a084b6d9ce7a</td>\n",
       "      <td>578.82</td>\n",
       "      <td>2017-08-24</td>\n",
       "      <td>2017-08-24</td>\n",
       "      <td>2018-09-03</td>\n",
       "      <td>376</td>\n",
       "      <td>3</td>\n",
       "      <td>919.34</td>\n",
       "      <td>375 days</td>\n",
       "      <td>375</td>\n",
       "      <td>2</td>\n",
       "    </tr>\n",
       "    <tr>\n",
       "      <th>98663</th>\n",
       "      <td>6f90ec5150be36c4475835b5941ab56f</td>\n",
       "      <td>6e5fe7366a2e1bfbf3257dba0af1267f</td>\n",
       "      <td>406.92</td>\n",
       "      <td>2016-10-09</td>\n",
       "      <td>2016-10-09</td>\n",
       "      <td>2018-09-03</td>\n",
       "      <td>695</td>\n",
       "      <td>1</td>\n",
       "      <td>406.92</td>\n",
       "      <td>694 days</td>\n",
       "      <td>694</td>\n",
       "      <td>1</td>\n",
       "    </tr>\n",
       "    <tr>\n",
       "      <th>98664</th>\n",
       "      <td>3629a4b18f2eb69e03f153158e48d2cc</td>\n",
       "      <td>ce6d150fb29ada17d2082f4847107665</td>\n",
       "      <td>1586.47</td>\n",
       "      <td>2018-01-25</td>\n",
       "      <td>2018-01-25</td>\n",
       "      <td>2018-09-03</td>\n",
       "      <td>222</td>\n",
       "      <td>1</td>\n",
       "      <td>1586.47</td>\n",
       "      <td>221 days</td>\n",
       "      <td>221</td>\n",
       "      <td>2</td>\n",
       "    </tr>\n",
       "  </tbody>\n",
       "</table>\n",
       "<p>98665 rows × 12 columns</p>\n",
       "</div>"
      ],
      "text/plain": [
       "                     customer_unique_id                          order_id  \\\n",
       "0      f7b62c75467e8ce080b201667cbbc274  262118ce178bb3e4590a3adcf6d62e6b   \n",
       "1      d0b614ed8a43dca2f98a7c093723809d  fd33085945f15975375cd8ec85440511   \n",
       "2      71692b73230707ce0f95d8a6091c22b4  6e57e23ecac1ae881286657694444267   \n",
       "3      60ef1068bcbffaed11615482aeb7c8bf  4154bf1348caac78152fe76e3e9c4af8   \n",
       "4      8d43f7b8f33f60fb6ae5ec21072135b5  6dcf0aeb8b1eb4021c26e1d0e9394979   \n",
       "...                                 ...                               ...   \n",
       "98660  8bd9c53ae5e194fd363ed6714235e6be  70b7e94ea46d3e8b5bc12a50186edaf0   \n",
       "98661  99567d452c6589499a2ba8b0fd4658e5  996c7e73600ad3723e8627ab7bef81e4   \n",
       "98662  b8b3c435a58aebd788a477bed8342910  70b742795bc441e94a44a084b6d9ce7a   \n",
       "98663  6f90ec5150be36c4475835b5941ab56f  6e5fe7366a2e1bfbf3257dba0af1267f   \n",
       "98664  3629a4b18f2eb69e03f153158e48d2cc  ce6d150fb29ada17d2082f4847107665   \n",
       "\n",
       "       payment_value order_purchase_timestamp_NEW  \\\n",
       "0             126.12                   2016-10-06   \n",
       "1             212.82                   2018-08-20   \n",
       "2             333.91                   2018-08-09   \n",
       "3             150.27                   2018-08-23   \n",
       "4             318.97                   2018-08-09   \n",
       "...              ...                          ...   \n",
       "98660         274.84                   2018-01-01   \n",
       "98661         664.43                   2018-07-16   \n",
       "98662         578.82                   2017-08-24   \n",
       "98663         406.92                   2016-10-09   \n",
       "98664        1586.47                   2018-01-25   \n",
       "\n",
       "      Date_du_dernier_achat_par_client Dataset_last_day  R-recency  \\\n",
       "0                           2016-10-07       2018-09-03        697   \n",
       "1                           2018-08-20       2018-09-03         15   \n",
       "2                           2018-08-09       2018-09-03         26   \n",
       "3                           2018-08-23       2018-09-03         12   \n",
       "4                           2018-08-09       2018-09-03         26   \n",
       "...                                ...              ...        ...   \n",
       "98660                       2018-01-01       2018-09-03        246   \n",
       "98661                       2018-07-16       2018-09-03         50   \n",
       "98662                       2017-08-24       2018-09-03        376   \n",
       "98663                       2016-10-09       2018-09-03        695   \n",
       "98664                       2018-01-25       2018-09-03        222   \n",
       "\n",
       "       F-frequency  M-monetary        a  diff_jours  Cluster1  \n",
       "0                2      168.05 696 days         696         1  \n",
       "1                1      212.82  14 days          14         0  \n",
       "2                1      333.91  25 days          25         0  \n",
       "3                1      150.27  11 days          11         0  \n",
       "4                1      318.97  25 days          25         0  \n",
       "...            ...         ...      ...         ...       ...  \n",
       "98660            1      274.84 245 days         245         0  \n",
       "98661            1      664.43  49 days          49         2  \n",
       "98662            3      919.34 375 days         375         2  \n",
       "98663            1      406.92 694 days         694         1  \n",
       "98664            1     1586.47 221 days         221         2  \n",
       "\n",
       "[98665 rows x 12 columns]"
      ]
     },
     "execution_count": 45,
     "metadata": {},
     "output_type": "execute_result"
    }
   ],
   "source": [
    "model=KMeans(n_clusters=3, random_state=1231).fit(RFM_1)\n",
    "df_t['Cluster1']=model.labels_\n",
    "df_t"
   ]
  },
  {
   "cell_type": "code",
   "execution_count": null,
   "id": "8350810e",
   "metadata": {
    "scrolled": true
   },
   "outputs": [],
   "source": [
    "#test=df_t.loc[df_t['customer_unique_id'].isin(['8d50f5eadf50201ccdcedfb9e2ac8455'])]\n",
    "#test"
   ]
  },
  {
   "cell_type": "code",
   "execution_count": 46,
   "id": "fbb43be9",
   "metadata": {},
   "outputs": [
    {
     "data": {
      "text/plain": [
       "customer_unique_id                  95419\n",
       "order_id                            95419\n",
       "payment_value                       95419\n",
       "order_purchase_timestamp_NEW        95419\n",
       "Date_du_dernier_achat_par_client    95419\n",
       "Dataset_last_day                    95419\n",
       "R-recency                           95419\n",
       "F-frequency                         95419\n",
       "M-monetary                          95419\n",
       "a                                   95419\n",
       "diff_jours                          95419\n",
       "Cluster1                            95419\n",
       "dtype: int64"
      ]
     },
     "execution_count": 46,
     "metadata": {},
     "output_type": "execute_result"
    }
   ],
   "source": [
    "df_t1=df_t.copy()\n",
    "df_t1=df_t1.drop_duplicates(subset =['customer_unique_id'])\n",
    "df_t1.count()"
   ]
  },
  {
   "cell_type": "code",
   "execution_count": 47,
   "id": "5281d200",
   "metadata": {},
   "outputs": [
    {
     "data": {
      "text/html": [
       "<div>\n",
       "<style scoped>\n",
       "    .dataframe tbody tr th:only-of-type {\n",
       "        vertical-align: middle;\n",
       "    }\n",
       "\n",
       "    .dataframe tbody tr th {\n",
       "        vertical-align: top;\n",
       "    }\n",
       "\n",
       "    .dataframe thead th {\n",
       "        text-align: right;\n",
       "    }\n",
       "</style>\n",
       "<table border=\"1\" class=\"dataframe\">\n",
       "  <thead>\n",
       "    <tr style=\"text-align: right;\">\n",
       "      <th></th>\n",
       "      <th>payment_value</th>\n",
       "      <th>R-recency</th>\n",
       "      <th>F-frequency</th>\n",
       "      <th>M-monetary</th>\n",
       "      <th>a</th>\n",
       "      <th>diff_jours</th>\n",
       "      <th>Cluster1</th>\n",
       "    </tr>\n",
       "  </thead>\n",
       "  <tbody>\n",
       "    <tr>\n",
       "      <th>count</th>\n",
       "      <td>95419.000000</td>\n",
       "      <td>95419.000000</td>\n",
       "      <td>95419.000000</td>\n",
       "      <td>95419.000000</td>\n",
       "      <td>95419</td>\n",
       "      <td>95419.000000</td>\n",
       "      <td>95419.000000</td>\n",
       "    </tr>\n",
       "    <tr>\n",
       "      <th>mean</th>\n",
       "      <td>161.100978</td>\n",
       "      <td>244.496484</td>\n",
       "      <td>1.034018</td>\n",
       "      <td>166.070491</td>\n",
       "      <td>243 days 11:54:56.211446360</td>\n",
       "      <td>243.496484</td>\n",
       "      <td>0.479066</td>\n",
       "    </tr>\n",
       "    <tr>\n",
       "      <th>std</th>\n",
       "      <td>221.822696</td>\n",
       "      <td>153.153950</td>\n",
       "      <td>0.211235</td>\n",
       "      <td>228.341907</td>\n",
       "      <td>153 days 03:41:41.250940148</td>\n",
       "      <td>153.153950</td>\n",
       "      <td>0.564862</td>\n",
       "    </tr>\n",
       "    <tr>\n",
       "      <th>min</th>\n",
       "      <td>9.590000</td>\n",
       "      <td>1.000000</td>\n",
       "      <td>1.000000</td>\n",
       "      <td>9.590000</td>\n",
       "      <td>0 days 00:00:00</td>\n",
       "      <td>0.000000</td>\n",
       "      <td>0.000000</td>\n",
       "    </tr>\n",
       "    <tr>\n",
       "      <th>25%</th>\n",
       "      <td>62.050000</td>\n",
       "      <td>120.000000</td>\n",
       "      <td>1.000000</td>\n",
       "      <td>63.100000</td>\n",
       "      <td>119 days 00:00:00</td>\n",
       "      <td>119.000000</td>\n",
       "      <td>0.000000</td>\n",
       "    </tr>\n",
       "    <tr>\n",
       "      <th>50%</th>\n",
       "      <td>105.520000</td>\n",
       "      <td>225.000000</td>\n",
       "      <td>1.000000</td>\n",
       "      <td>107.950000</td>\n",
       "      <td>224 days 00:00:00</td>\n",
       "      <td>224.000000</td>\n",
       "      <td>0.000000</td>\n",
       "    </tr>\n",
       "    <tr>\n",
       "      <th>75%</th>\n",
       "      <td>177.240000</td>\n",
       "      <td>354.000000</td>\n",
       "      <td>1.000000</td>\n",
       "      <td>183.270000</td>\n",
       "      <td>353 days 00:00:00</td>\n",
       "      <td>353.000000</td>\n",
       "      <td>1.000000</td>\n",
       "    </tr>\n",
       "    <tr>\n",
       "      <th>max</th>\n",
       "      <td>13664.080000</td>\n",
       "      <td>730.000000</td>\n",
       "      <td>16.000000</td>\n",
       "      <td>13664.080000</td>\n",
       "      <td>729 days 00:00:00</td>\n",
       "      <td>729.000000</td>\n",
       "      <td>2.000000</td>\n",
       "    </tr>\n",
       "  </tbody>\n",
       "</table>\n",
       "</div>"
      ],
      "text/plain": [
       "       payment_value     R-recency   F-frequency    M-monetary  \\\n",
       "count   95419.000000  95419.000000  95419.000000  95419.000000   \n",
       "mean      161.100978    244.496484      1.034018    166.070491   \n",
       "std       221.822696    153.153950      0.211235    228.341907   \n",
       "min         9.590000      1.000000      1.000000      9.590000   \n",
       "25%        62.050000    120.000000      1.000000     63.100000   \n",
       "50%       105.520000    225.000000      1.000000    107.950000   \n",
       "75%       177.240000    354.000000      1.000000    183.270000   \n",
       "max     13664.080000    730.000000     16.000000  13664.080000   \n",
       "\n",
       "                                 a    diff_jours      Cluster1  \n",
       "count                        95419  95419.000000  95419.000000  \n",
       "mean   243 days 11:54:56.211446360    243.496484      0.479066  \n",
       "std    153 days 03:41:41.250940148    153.153950      0.564862  \n",
       "min                0 days 00:00:00      0.000000      0.000000  \n",
       "25%              119 days 00:00:00    119.000000      0.000000  \n",
       "50%              224 days 00:00:00    224.000000      0.000000  \n",
       "75%              353 days 00:00:00    353.000000      1.000000  \n",
       "max              729 days 00:00:00    729.000000      2.000000  "
      ]
     },
     "execution_count": 47,
     "metadata": {},
     "output_type": "execute_result"
    }
   ],
   "source": [
    "df_t1.describe()"
   ]
  },
  {
   "cell_type": "code",
   "execution_count": null,
   "id": "60496ba4",
   "metadata": {},
   "outputs": [],
   "source": [
    "#On a comme max 729/7=104.14 semaines (ie. un peu plus de 104 semaines).\n",
    "\n",
    "\n",
    "\n",
    "#C. Étude de la prédiction.\n",
    "\n",
    "#Afin d'avoir des résultats robustes, il faut que les intervalles de temps considérés soient 'courts mais pas trop'.\n",
    "#Vu notre période de temps qui va de septembre 2016, jusqu'à septembre 2018, l'analyse des prédictions toutes les semaines\n",
    "#semble adéquat.\n",
    "#On a décidé, pour se faire, de considérer l'entraînement sur la base entière et ensuite on procédera à reculons pour les\n",
    "#prédictions. Ainsi on enlèvera à chaque prédiction les semaines précédentes.\n",
    "\n",
    "#C.1 Moins 1ère semaine.\n",
    "\n",
    "#C.1.1 On commence par \"loc\" la base."
   ]
  },
  {
   "cell_type": "code",
   "execution_count": 48,
   "id": "268af4eb",
   "metadata": {},
   "outputs": [
    {
     "data": {
      "text/plain": [
       "customer_unique_id                  98539\n",
       "order_id                            98539\n",
       "payment_value                       98539\n",
       "order_purchase_timestamp_NEW        98539\n",
       "Date_du_dernier_achat_par_client    98539\n",
       "Dataset_last_day                    98539\n",
       "R-recency                           98539\n",
       "F-frequency                         98539\n",
       "M-monetary                          98539\n",
       "a                                   98539\n",
       "diff_jours                          98539\n",
       "Cluster1                            98539\n",
       "dtype: int64"
      ]
     },
     "execution_count": 48,
     "metadata": {},
     "output_type": "execute_result"
    }
   ],
   "source": [
    "df_t2=df_t.loc[(df_t['diff_jours'] >7)]\n",
    "df_t2.count()"
   ]
  },
  {
   "cell_type": "code",
   "execution_count": null,
   "id": "93893dff",
   "metadata": {
    "scrolled": true
   },
   "outputs": [],
   "source": [
    "#df_t2"
   ]
  },
  {
   "cell_type": "code",
   "execution_count": null,
   "id": "24b0ad2b",
   "metadata": {},
   "outputs": [],
   "source": [
    "#C.1.2 On calcule les nouvelles variable RFM pour cette nouvelle base.\n",
    "#'R-recency'"
   ]
  },
  {
   "cell_type": "code",
   "execution_count": 49,
   "id": "fab82da2",
   "metadata": {},
   "outputs": [],
   "source": [
    "df_t2['Date_du_dernier_achat_par_client']=df_t2.groupby('customer_unique_id')['order_purchase_timestamp_NEW'].transform(max)"
   ]
  },
  {
   "cell_type": "code",
   "execution_count": 50,
   "id": "4cac9706",
   "metadata": {},
   "outputs": [],
   "source": [
    "df_t2['Dataset_last_day']=df_t2['order_purchase_timestamp_NEW'].max()"
   ]
  },
  {
   "cell_type": "code",
   "execution_count": 51,
   "id": "0d27fa98",
   "metadata": {},
   "outputs": [],
   "source": [
    "df_t2['R-recency']= ((df_t2['Dataset_last_day']+timedelta(days=1))-df_t2['Date_du_dernier_achat_par_client']).dt.days"
   ]
  },
  {
   "cell_type": "code",
   "execution_count": null,
   "id": "7902f8b7",
   "metadata": {
    "scrolled": true
   },
   "outputs": [],
   "source": [
    "#df_t2"
   ]
  },
  {
   "cell_type": "code",
   "execution_count": 52,
   "id": "562988a4",
   "metadata": {},
   "outputs": [],
   "source": [
    "df_t2=df_t2.drop(['F-frequency', 'M-monetary'], axis=1)"
   ]
  },
  {
   "cell_type": "code",
   "execution_count": null,
   "id": "952850db",
   "metadata": {},
   "outputs": [],
   "source": [
    "#'F-frequency'"
   ]
  },
  {
   "cell_type": "code",
   "execution_count": 53,
   "id": "8be52b46",
   "metadata": {},
   "outputs": [],
   "source": [
    "F=df_t2.groupby(['customer_unique_id'], as_index=False)['order_id'].count()"
   ]
  },
  {
   "cell_type": "code",
   "execution_count": 54,
   "id": "bce77380",
   "metadata": {},
   "outputs": [],
   "source": [
    "F.rename(columns={'order_id': 'F-frequency'}, inplace=True)\n",
    "#F"
   ]
  },
  {
   "cell_type": "code",
   "execution_count": 55,
   "id": "357adb2d",
   "metadata": {},
   "outputs": [],
   "source": [
    "df_t2= pd.merge(df_t2, F, how='left', on='customer_unique_id')"
   ]
  },
  {
   "cell_type": "code",
   "execution_count": null,
   "id": "eb83f602",
   "metadata": {
    "scrolled": true
   },
   "outputs": [],
   "source": [
    "#df_t2"
   ]
  },
  {
   "cell_type": "code",
   "execution_count": null,
   "id": "a2298ad1",
   "metadata": {},
   "outputs": [],
   "source": [
    "#'M-monetary'"
   ]
  },
  {
   "cell_type": "code",
   "execution_count": 56,
   "id": "44722c1d",
   "metadata": {},
   "outputs": [],
   "source": [
    "M=df_t2.loc[:,['customer_unique_id', 'payment_value']]\n",
    "M=M.groupby(['customer_unique_id'], as_index=False).sum()\n",
    "M.rename(columns={'payment_value': 'M-monetary'}, inplace=True)"
   ]
  },
  {
   "cell_type": "code",
   "execution_count": 57,
   "id": "adb11375",
   "metadata": {},
   "outputs": [],
   "source": [
    "df_t2= pd.merge(df_t2, M, how='left', on='customer_unique_id')"
   ]
  },
  {
   "cell_type": "code",
   "execution_count": null,
   "id": "e45f038e",
   "metadata": {
    "scrolled": true
   },
   "outputs": [],
   "source": [
    "#df_t2"
   ]
  },
  {
   "cell_type": "code",
   "execution_count": null,
   "id": "ffbde19d",
   "metadata": {},
   "outputs": [],
   "source": [
    "#C.1.3 On calcule les prédictions."
   ]
  },
  {
   "cell_type": "code",
   "execution_count": 58,
   "id": "37a6d7bc",
   "metadata": {},
   "outputs": [
    {
     "data": {
      "text/plain": [
       "R-recency      98539\n",
       "F-frequency    98539\n",
       "M-monetary     98539\n",
       "dtype: int64"
      ]
     },
     "execution_count": 58,
     "metadata": {},
     "output_type": "execute_result"
    }
   ],
   "source": [
    "RFM_2=df_t2.loc[:,['R-recency','F-frequency','M-monetary']]\n",
    "RFM_2.count()"
   ]
  },
  {
   "cell_type": "code",
   "execution_count": 59,
   "id": "76d772f2",
   "metadata": {},
   "outputs": [],
   "source": [
    "prediction_1=model.predict(RFM_2)"
   ]
  },
  {
   "cell_type": "code",
   "execution_count": 60,
   "id": "fbeb8c5b",
   "metadata": {},
   "outputs": [
    {
     "data": {
      "text/plain": [
       "array([1, 0, 0, ..., 2, 1, 2])"
      ]
     },
     "execution_count": 60,
     "metadata": {},
     "output_type": "execute_result"
    }
   ],
   "source": [
    "prediction_1"
   ]
  },
  {
   "cell_type": "code",
   "execution_count": 61,
   "id": "1a555731",
   "metadata": {
    "scrolled": true
   },
   "outputs": [],
   "source": [
    "df_t2['Cluster2']=prediction_1\n",
    "#df_t2"
   ]
  },
  {
   "cell_type": "code",
   "execution_count": 62,
   "id": "032219f5",
   "metadata": {},
   "outputs": [
    {
     "data": {
      "text/plain": [
       "-0.848902507279809"
      ]
     },
     "execution_count": 62,
     "metadata": {},
     "output_type": "execute_result"
    }
   ],
   "source": [
    "results_2=adjusted_rand_score(df_t2['Cluster1'], df_t2['Cluster2'])\n",
    "results_2"
   ]
  },
  {
   "cell_type": "code",
   "execution_count": null,
   "id": "044a08de",
   "metadata": {},
   "outputs": [],
   "source": [
    "#Automatisation"
   ]
  },
  {
   "cell_type": "code",
   "execution_count": 63,
   "id": "3a220772",
   "metadata": {
    "scrolled": true
   },
   "outputs": [
    {
     "name": "stdout",
     "output_type": "stream",
     "text": [
      "ARI entre les clusters\n",
      "Semaine   ARI\n",
      "_____________________________________________________\n",
      "-1 sem. -0.848902507279809\n",
      "-2 sem. 0.24394310309047043\n",
      "-3 sem. -1.227966482905113\n",
      "-4 sem. -7.719263961512608\n",
      "-5 sem. 7.058475749745104\n",
      "-6 sem. 3.7961283896776417\n",
      "-7 sem. -2.524565396977901\n",
      "-8 sem. -1.8912713560534609\n",
      "-9 sem. 1.5798088844895195\n",
      "-10 sem. 1.718568244906802\n",
      "-11 sem. 1.9816521949658072\n",
      "-12 sem. 2.532770972434046\n",
      "-13 sem. 3.858327318347242\n",
      "-14 sem. 7.772287367515303\n",
      "-15 sem. -52.218558468423915\n",
      "-16 sem. -2.533727863668042\n",
      "-17 sem. -1.026258909720536\n",
      "-18 sem. -0.5775910801581022\n",
      "-19 sem. -0.36201731293190276\n",
      "-20 sem. -0.2357300603532109\n",
      "-21 sem. -0.15814268801752185\n",
      "-22 sem. 0.10661076713054417\n",
      "-23 sem. 0.08825635733480126\n",
      "-24 sem. 0.07196614900139046\n",
      "-25 sem. 0.059139123286636334\n",
      "-26 sem. 0.047578724310934906\n",
      "-27 sem. 0.038617414089089475\n",
      "-28 sem. 0.03470018567602584\n",
      "-29 sem. 0.035414319160328965\n",
      "-30 sem. 0.04153651833867275\n",
      "-31 sem. 0.054600785805710886\n",
      "-32 sem. 0.07462711735347273\n",
      "-33 sem. 0.10505806262341326\n",
      "-34 sem. 0.14683801808680214\n",
      "-35 sem. 0.19166823178281178\n",
      "-36 sem. 0.2383520230194828\n",
      "-37 sem. 0.301911236375927\n",
      "-38 sem. 0.3574784731074652\n",
      "-39 sem. 0.38378287196172445\n",
      "-40 sem. 0.4131478656930138\n",
      "-41 sem. 0.4417676708967072\n",
      "-42 sem. 0.4718180009060616\n",
      "-43 sem. 0.5020227660071716\n",
      "-44 sem. 0.5503617213063775\n",
      "-45 sem. 0.6371577042013974\n",
      "-46 sem. 0.7115324145940746\n",
      "-47 sem. 0.7749352680903688\n",
      "-48 sem. 0.8122570964973386\n",
      "-49 sem. 0.821808295734641\n",
      "-50 sem. 0.8270257625769715\n",
      "-51 sem. 0.8202109988090317\n",
      "-52 sem. 0.8142490694284393\n",
      "-53 sem. 0.8022851340451178\n",
      "-54 sem. 0.7972216046608024\n",
      "-55 sem. 0.7894701073557282\n",
      "-56 sem. 0.782937332510906\n",
      "-57 sem. 0.7780655036044573\n",
      "-58 sem. 0.7720072438576676\n",
      "-59 sem. 0.7660051300245877\n",
      "-60 sem. 0.7592526929716268\n",
      "-61 sem. 0.7566626620942646\n",
      "-62 sem. 0.877885948247303\n",
      "-63 sem. 0.9614992041605783\n",
      "-64 sem. 0.9593429657062506\n",
      "-65 sem. 0.9570714026102687\n",
      "-66 sem. 0.9580505186778132\n",
      "-67 sem. 0.9592904781439892\n",
      "-68 sem. 0.9586385203228437\n",
      "-69 sem. 0.9579306556952029\n",
      "-70 sem. 0.9580931408006497\n",
      "-71 sem. 0.9574670142230222\n",
      "-72 sem. 0.9604665025102214\n",
      "-73 sem. 0.9627622245085424\n",
      "-74 sem. 0.9662207279147335\n",
      "-75 sem. 0.9627539152730259\n",
      "-76 sem. 0.9616962055473558\n",
      "-77 sem. 0.9561875242920067\n",
      "-78 sem. 0.9529838888738561\n",
      "-79 sem. 0.9437869867603009\n",
      "-80 sem. 0.9367049290327804\n",
      "-81 sem. 0.9236238159808668\n",
      "-82 sem. 0.9285458636540475\n",
      "-83 sem. 0.9053723192700329\n",
      "-84 sem. 0.8715698936552548\n",
      "-85 sem. 0.8486340259197677\n",
      "-86 sem. 0.8247459541298165\n",
      "-87 sem. 0.8623375135472748\n",
      "-88 sem. 0.8623375135472748\n",
      "-89 sem. 0.8623375135472748\n",
      "-90 sem. 0.8623375135472748\n",
      "-91 sem. 0.8623375135472748\n",
      "-92 sem. 0.8623375135472748\n",
      "-93 sem. 0.8623375135472748\n",
      "-94 sem. 0.8623375135472748\n",
      "-95 sem. 0.8623375135472748\n",
      "-96 sem. 0.8623375135472748\n",
      "-97 sem. 0.8623375135472748\n",
      "-98 sem. 0.8623375135472748\n",
      "-99 sem. 0.8521709940851102\n",
      "-100 sem. 1.0\n",
      "-101 sem. 1.0\n",
      "-102 sem. 1.0\n",
      "-103 sem. 1.0\n"
     ]
    }
   ],
   "source": [
    "print(\"ARI entre les clusters\")\n",
    "print('Semaine   ARI')\n",
    "print(53 * '_')\n",
    "\n",
    "\n",
    "for i in range(103):\n",
    "    #C.1.1 On commence par \"loc\" la base.\n",
    "    df_t2=df_t.loc[(df_t['diff_jours'] >7*(i+1))]\n",
    "    \n",
    "    #C.1.2 On calcule les nouvelles variable RFM pour cette nouvelle base.\n",
    "    #'R-recency'\n",
    "    df_t2['Date_du_dernier_achat_par_client']=df_t2.groupby('customer_unique_id')['order_purchase_timestamp_NEW'].transform(max)\n",
    "    df_t2['Dataset_last_day']=df_t2['order_purchase_timestamp_NEW'].max()\n",
    "    df_t2['R-recency']= ((df_t2['Dataset_last_day']+timedelta(days=1))-df_t2['Date_du_dernier_achat_par_client']).dt.days\n",
    "    \n",
    "    df_t2=df_t2.drop(['F-frequency', 'M-monetary'], axis=1)\n",
    "    \n",
    "    #'F-frequency'\n",
    "    F=df_t2.groupby(['customer_unique_id'], as_index=False)['order_id'].count()\n",
    "    F.rename(columns={'order_id': 'F-frequency'}, inplace=True)\n",
    "    df_t2= pd.merge(df_t2, F, how='left', on='customer_unique_id')\n",
    "    \n",
    "    #'M-monetary'\n",
    "    M=df_t2.loc[:,['customer_unique_id', 'payment_value']]\n",
    "    M=M.groupby(['customer_unique_id'], as_index=False).sum()\n",
    "    M.rename(columns={'payment_value': 'M-monetary'}, inplace=True)\n",
    "    df_t2= pd.merge(df_t2, M, how='left', on='customer_unique_id')\n",
    "    \n",
    "    #C.1.3 On calcule les prédictions.\n",
    "    RFM_2=df_t2.loc[:,['R-recency','F-frequency','M-monetary']]\n",
    "    prediction_1=model.predict(RFM_2)\n",
    "    df_t2['Cluster2']=prediction_1\n",
    "    \n",
    "    name=\"-\"+str(i+1)+\" sem.\"\n",
    "    res= adjusted_rand_score(df_t2['Cluster1'], df_t2['Cluster2'])\n",
    "    results = [name, res]\n",
    "    \n",
    "    print(*results)"
   ]
  },
  {
   "cell_type": "code",
   "execution_count": null,
   "id": "617fae0f",
   "metadata": {},
   "outputs": [],
   "source": [
    "#Comme ce que j'ai fait c'est enlever ds semaines en fait la lecture doit se faire à l'envers: 103 semaines -> 1 semaine.\n",
    "#Pour que le ARI soit bon, il doit être >=0.8  du coup pour nous se serait à partir de 61 semaines en lecture à l'envers, \n",
    "#soit au bout de 43 semaines, soit tous les 10,75 mois. En gros tous les 10-11 mois (plutôt 10,5 mois pour être prévoyants)."
   ]
  },
  {
   "cell_type": "code",
   "execution_count": null,
   "id": "5887f4a9",
   "metadata": {},
   "outputs": [],
   "source": [
    "#-----------------------------------------------------------------"
   ]
  },
  {
   "cell_type": "code",
   "execution_count": null,
   "id": "43ef33ac",
   "metadata": {},
   "outputs": [],
   "source": [
    "#---------------------------------------------------------------------------------------------------------------------------\n",
    "#AVEC RECALCUL DES VARIABLES RFM\n",
    "#Option 2: comparaison \"Cluster1\" -> cluster résultant d'un apprentissage (ie. un nouveau modèle) sur base sans x semaines, \n",
    "#avec \"Cluster2\" -> cluster résultant du .predict du modèle calculé sur base complète, mais appliqué sur la base sans x \n",
    "#semaines.\n",
    "\n",
    "#B Entraînement du modèle sur la base complète. \n",
    "\n",
    "#On va devoir regrouper par client, car la base ne l'est pas afin de pouvoir calculer à chaque fois qu'on enlève une \n",
    "#semaine la variable 'M-monetary' qui dépend du nombre de commander passées dans la période d'analyse. Néanmoins, on ne fait\n",
    "#pas le regroupement en tout premier lieu afin d'avoir la clustérisation de référence ('Cluster1') associée à toutes les \n",
    "#lignes (même les doublons)."
   ]
  },
  {
   "cell_type": "code",
   "execution_count": 64,
   "id": "795bdb8e",
   "metadata": {},
   "outputs": [],
   "source": [
    "RFM_1=df_t.loc[:,['R-recency','F-frequency','M-monetary']]"
   ]
  },
  {
   "cell_type": "code",
   "execution_count": 65,
   "id": "cfea5468",
   "metadata": {
    "scrolled": true
   },
   "outputs": [
    {
     "data": {
      "text/html": [
       "<div>\n",
       "<style scoped>\n",
       "    .dataframe tbody tr th:only-of-type {\n",
       "        vertical-align: middle;\n",
       "    }\n",
       "\n",
       "    .dataframe tbody tr th {\n",
       "        vertical-align: top;\n",
       "    }\n",
       "\n",
       "    .dataframe thead th {\n",
       "        text-align: right;\n",
       "    }\n",
       "</style>\n",
       "<table border=\"1\" class=\"dataframe\">\n",
       "  <thead>\n",
       "    <tr style=\"text-align: right;\">\n",
       "      <th></th>\n",
       "      <th>customer_unique_id</th>\n",
       "      <th>order_id</th>\n",
       "      <th>payment_value</th>\n",
       "      <th>order_purchase_timestamp_NEW</th>\n",
       "      <th>Date_du_dernier_achat_par_client</th>\n",
       "      <th>Dataset_last_day</th>\n",
       "      <th>R-recency</th>\n",
       "      <th>F-frequency</th>\n",
       "      <th>M-monetary</th>\n",
       "      <th>a</th>\n",
       "      <th>diff_jours</th>\n",
       "      <th>Cluster1</th>\n",
       "    </tr>\n",
       "  </thead>\n",
       "  <tbody>\n",
       "    <tr>\n",
       "      <th>0</th>\n",
       "      <td>f7b62c75467e8ce080b201667cbbc274</td>\n",
       "      <td>262118ce178bb3e4590a3adcf6d62e6b</td>\n",
       "      <td>126.12</td>\n",
       "      <td>2016-10-06</td>\n",
       "      <td>2016-10-07</td>\n",
       "      <td>2018-09-03</td>\n",
       "      <td>697</td>\n",
       "      <td>2</td>\n",
       "      <td>168.05</td>\n",
       "      <td>696 days</td>\n",
       "      <td>696</td>\n",
       "      <td>1</td>\n",
       "    </tr>\n",
       "    <tr>\n",
       "      <th>1</th>\n",
       "      <td>d0b614ed8a43dca2f98a7c093723809d</td>\n",
       "      <td>fd33085945f15975375cd8ec85440511</td>\n",
       "      <td>212.82</td>\n",
       "      <td>2018-08-20</td>\n",
       "      <td>2018-08-20</td>\n",
       "      <td>2018-09-03</td>\n",
       "      <td>15</td>\n",
       "      <td>1</td>\n",
       "      <td>212.82</td>\n",
       "      <td>14 days</td>\n",
       "      <td>14</td>\n",
       "      <td>0</td>\n",
       "    </tr>\n",
       "    <tr>\n",
       "      <th>2</th>\n",
       "      <td>71692b73230707ce0f95d8a6091c22b4</td>\n",
       "      <td>6e57e23ecac1ae881286657694444267</td>\n",
       "      <td>333.91</td>\n",
       "      <td>2018-08-09</td>\n",
       "      <td>2018-08-09</td>\n",
       "      <td>2018-09-03</td>\n",
       "      <td>26</td>\n",
       "      <td>1</td>\n",
       "      <td>333.91</td>\n",
       "      <td>25 days</td>\n",
       "      <td>25</td>\n",
       "      <td>0</td>\n",
       "    </tr>\n",
       "    <tr>\n",
       "      <th>3</th>\n",
       "      <td>60ef1068bcbffaed11615482aeb7c8bf</td>\n",
       "      <td>4154bf1348caac78152fe76e3e9c4af8</td>\n",
       "      <td>150.27</td>\n",
       "      <td>2018-08-23</td>\n",
       "      <td>2018-08-23</td>\n",
       "      <td>2018-09-03</td>\n",
       "      <td>12</td>\n",
       "      <td>1</td>\n",
       "      <td>150.27</td>\n",
       "      <td>11 days</td>\n",
       "      <td>11</td>\n",
       "      <td>0</td>\n",
       "    </tr>\n",
       "    <tr>\n",
       "      <th>4</th>\n",
       "      <td>8d43f7b8f33f60fb6ae5ec21072135b5</td>\n",
       "      <td>6dcf0aeb8b1eb4021c26e1d0e9394979</td>\n",
       "      <td>318.97</td>\n",
       "      <td>2018-08-09</td>\n",
       "      <td>2018-08-09</td>\n",
       "      <td>2018-09-03</td>\n",
       "      <td>26</td>\n",
       "      <td>1</td>\n",
       "      <td>318.97</td>\n",
       "      <td>25 days</td>\n",
       "      <td>25</td>\n",
       "      <td>0</td>\n",
       "    </tr>\n",
       "    <tr>\n",
       "      <th>...</th>\n",
       "      <td>...</td>\n",
       "      <td>...</td>\n",
       "      <td>...</td>\n",
       "      <td>...</td>\n",
       "      <td>...</td>\n",
       "      <td>...</td>\n",
       "      <td>...</td>\n",
       "      <td>...</td>\n",
       "      <td>...</td>\n",
       "      <td>...</td>\n",
       "      <td>...</td>\n",
       "      <td>...</td>\n",
       "    </tr>\n",
       "    <tr>\n",
       "      <th>98660</th>\n",
       "      <td>8bd9c53ae5e194fd363ed6714235e6be</td>\n",
       "      <td>70b7e94ea46d3e8b5bc12a50186edaf0</td>\n",
       "      <td>274.84</td>\n",
       "      <td>2018-01-01</td>\n",
       "      <td>2018-01-01</td>\n",
       "      <td>2018-09-03</td>\n",
       "      <td>246</td>\n",
       "      <td>1</td>\n",
       "      <td>274.84</td>\n",
       "      <td>245 days</td>\n",
       "      <td>245</td>\n",
       "      <td>0</td>\n",
       "    </tr>\n",
       "    <tr>\n",
       "      <th>98661</th>\n",
       "      <td>99567d452c6589499a2ba8b0fd4658e5</td>\n",
       "      <td>996c7e73600ad3723e8627ab7bef81e4</td>\n",
       "      <td>664.43</td>\n",
       "      <td>2018-07-16</td>\n",
       "      <td>2018-07-16</td>\n",
       "      <td>2018-09-03</td>\n",
       "      <td>50</td>\n",
       "      <td>1</td>\n",
       "      <td>664.43</td>\n",
       "      <td>49 days</td>\n",
       "      <td>49</td>\n",
       "      <td>2</td>\n",
       "    </tr>\n",
       "    <tr>\n",
       "      <th>98662</th>\n",
       "      <td>b8b3c435a58aebd788a477bed8342910</td>\n",
       "      <td>70b742795bc441e94a44a084b6d9ce7a</td>\n",
       "      <td>578.82</td>\n",
       "      <td>2017-08-24</td>\n",
       "      <td>2017-08-24</td>\n",
       "      <td>2018-09-03</td>\n",
       "      <td>376</td>\n",
       "      <td>3</td>\n",
       "      <td>919.34</td>\n",
       "      <td>375 days</td>\n",
       "      <td>375</td>\n",
       "      <td>2</td>\n",
       "    </tr>\n",
       "    <tr>\n",
       "      <th>98663</th>\n",
       "      <td>6f90ec5150be36c4475835b5941ab56f</td>\n",
       "      <td>6e5fe7366a2e1bfbf3257dba0af1267f</td>\n",
       "      <td>406.92</td>\n",
       "      <td>2016-10-09</td>\n",
       "      <td>2016-10-09</td>\n",
       "      <td>2018-09-03</td>\n",
       "      <td>695</td>\n",
       "      <td>1</td>\n",
       "      <td>406.92</td>\n",
       "      <td>694 days</td>\n",
       "      <td>694</td>\n",
       "      <td>1</td>\n",
       "    </tr>\n",
       "    <tr>\n",
       "      <th>98664</th>\n",
       "      <td>3629a4b18f2eb69e03f153158e48d2cc</td>\n",
       "      <td>ce6d150fb29ada17d2082f4847107665</td>\n",
       "      <td>1586.47</td>\n",
       "      <td>2018-01-25</td>\n",
       "      <td>2018-01-25</td>\n",
       "      <td>2018-09-03</td>\n",
       "      <td>222</td>\n",
       "      <td>1</td>\n",
       "      <td>1586.47</td>\n",
       "      <td>221 days</td>\n",
       "      <td>221</td>\n",
       "      <td>2</td>\n",
       "    </tr>\n",
       "  </tbody>\n",
       "</table>\n",
       "<p>98665 rows × 12 columns</p>\n",
       "</div>"
      ],
      "text/plain": [
       "                     customer_unique_id                          order_id  \\\n",
       "0      f7b62c75467e8ce080b201667cbbc274  262118ce178bb3e4590a3adcf6d62e6b   \n",
       "1      d0b614ed8a43dca2f98a7c093723809d  fd33085945f15975375cd8ec85440511   \n",
       "2      71692b73230707ce0f95d8a6091c22b4  6e57e23ecac1ae881286657694444267   \n",
       "3      60ef1068bcbffaed11615482aeb7c8bf  4154bf1348caac78152fe76e3e9c4af8   \n",
       "4      8d43f7b8f33f60fb6ae5ec21072135b5  6dcf0aeb8b1eb4021c26e1d0e9394979   \n",
       "...                                 ...                               ...   \n",
       "98660  8bd9c53ae5e194fd363ed6714235e6be  70b7e94ea46d3e8b5bc12a50186edaf0   \n",
       "98661  99567d452c6589499a2ba8b0fd4658e5  996c7e73600ad3723e8627ab7bef81e4   \n",
       "98662  b8b3c435a58aebd788a477bed8342910  70b742795bc441e94a44a084b6d9ce7a   \n",
       "98663  6f90ec5150be36c4475835b5941ab56f  6e5fe7366a2e1bfbf3257dba0af1267f   \n",
       "98664  3629a4b18f2eb69e03f153158e48d2cc  ce6d150fb29ada17d2082f4847107665   \n",
       "\n",
       "       payment_value order_purchase_timestamp_NEW  \\\n",
       "0             126.12                   2016-10-06   \n",
       "1             212.82                   2018-08-20   \n",
       "2             333.91                   2018-08-09   \n",
       "3             150.27                   2018-08-23   \n",
       "4             318.97                   2018-08-09   \n",
       "...              ...                          ...   \n",
       "98660         274.84                   2018-01-01   \n",
       "98661         664.43                   2018-07-16   \n",
       "98662         578.82                   2017-08-24   \n",
       "98663         406.92                   2016-10-09   \n",
       "98664        1586.47                   2018-01-25   \n",
       "\n",
       "      Date_du_dernier_achat_par_client Dataset_last_day  R-recency  \\\n",
       "0                           2016-10-07       2018-09-03        697   \n",
       "1                           2018-08-20       2018-09-03         15   \n",
       "2                           2018-08-09       2018-09-03         26   \n",
       "3                           2018-08-23       2018-09-03         12   \n",
       "4                           2018-08-09       2018-09-03         26   \n",
       "...                                ...              ...        ...   \n",
       "98660                       2018-01-01       2018-09-03        246   \n",
       "98661                       2018-07-16       2018-09-03         50   \n",
       "98662                       2017-08-24       2018-09-03        376   \n",
       "98663                       2016-10-09       2018-09-03        695   \n",
       "98664                       2018-01-25       2018-09-03        222   \n",
       "\n",
       "       F-frequency  M-monetary        a  diff_jours  Cluster1  \n",
       "0                2      168.05 696 days         696         1  \n",
       "1                1      212.82  14 days          14         0  \n",
       "2                1      333.91  25 days          25         0  \n",
       "3                1      150.27  11 days          11         0  \n",
       "4                1      318.97  25 days          25         0  \n",
       "...            ...         ...      ...         ...       ...  \n",
       "98660            1      274.84 245 days         245         0  \n",
       "98661            1      664.43  49 days          49         2  \n",
       "98662            3      919.34 375 days         375         2  \n",
       "98663            1      406.92 694 days         694         1  \n",
       "98664            1     1586.47 221 days         221         2  \n",
       "\n",
       "[98665 rows x 12 columns]"
      ]
     },
     "execution_count": 65,
     "metadata": {},
     "output_type": "execute_result"
    }
   ],
   "source": [
    "model=KMeans(n_clusters=3, random_state=1231).fit(RFM_1)\n",
    "df_t['Cluster1']=model.labels_\n",
    "df_t"
   ]
  },
  {
   "cell_type": "code",
   "execution_count": null,
   "id": "26df5ac6",
   "metadata": {
    "scrolled": true
   },
   "outputs": [],
   "source": [
    "#test=df_t.loc[df_t['customer_unique_id'].isin(['8d50f5eadf50201ccdcedfb9e2ac8455'])]\n",
    "#test"
   ]
  },
  {
   "cell_type": "code",
   "execution_count": 66,
   "id": "666c6847",
   "metadata": {},
   "outputs": [
    {
     "data": {
      "text/plain": [
       "customer_unique_id                  95419\n",
       "order_id                            95419\n",
       "payment_value                       95419\n",
       "order_purchase_timestamp_NEW        95419\n",
       "Date_du_dernier_achat_par_client    95419\n",
       "Dataset_last_day                    95419\n",
       "R-recency                           95419\n",
       "F-frequency                         95419\n",
       "M-monetary                          95419\n",
       "a                                   95419\n",
       "diff_jours                          95419\n",
       "Cluster1                            95419\n",
       "dtype: int64"
      ]
     },
     "execution_count": 66,
     "metadata": {},
     "output_type": "execute_result"
    }
   ],
   "source": [
    "df_t1=df_t.copy()\n",
    "df_t1=df_t1.drop_duplicates(subset =['customer_unique_id'])\n",
    "df_t1.count()"
   ]
  },
  {
   "cell_type": "code",
   "execution_count": 67,
   "id": "eef34464",
   "metadata": {},
   "outputs": [
    {
     "data": {
      "text/html": [
       "<div>\n",
       "<style scoped>\n",
       "    .dataframe tbody tr th:only-of-type {\n",
       "        vertical-align: middle;\n",
       "    }\n",
       "\n",
       "    .dataframe tbody tr th {\n",
       "        vertical-align: top;\n",
       "    }\n",
       "\n",
       "    .dataframe thead th {\n",
       "        text-align: right;\n",
       "    }\n",
       "</style>\n",
       "<table border=\"1\" class=\"dataframe\">\n",
       "  <thead>\n",
       "    <tr style=\"text-align: right;\">\n",
       "      <th></th>\n",
       "      <th>payment_value</th>\n",
       "      <th>R-recency</th>\n",
       "      <th>F-frequency</th>\n",
       "      <th>M-monetary</th>\n",
       "      <th>a</th>\n",
       "      <th>diff_jours</th>\n",
       "      <th>Cluster1</th>\n",
       "    </tr>\n",
       "  </thead>\n",
       "  <tbody>\n",
       "    <tr>\n",
       "      <th>count</th>\n",
       "      <td>95419.000000</td>\n",
       "      <td>95419.000000</td>\n",
       "      <td>95419.000000</td>\n",
       "      <td>95419.000000</td>\n",
       "      <td>95419</td>\n",
       "      <td>95419.000000</td>\n",
       "      <td>95419.000000</td>\n",
       "    </tr>\n",
       "    <tr>\n",
       "      <th>mean</th>\n",
       "      <td>161.100978</td>\n",
       "      <td>244.496484</td>\n",
       "      <td>1.034018</td>\n",
       "      <td>166.070491</td>\n",
       "      <td>243 days 11:54:56.211446360</td>\n",
       "      <td>243.496484</td>\n",
       "      <td>0.479066</td>\n",
       "    </tr>\n",
       "    <tr>\n",
       "      <th>std</th>\n",
       "      <td>221.822696</td>\n",
       "      <td>153.153950</td>\n",
       "      <td>0.211235</td>\n",
       "      <td>228.341907</td>\n",
       "      <td>153 days 03:41:41.250940148</td>\n",
       "      <td>153.153950</td>\n",
       "      <td>0.564862</td>\n",
       "    </tr>\n",
       "    <tr>\n",
       "      <th>min</th>\n",
       "      <td>9.590000</td>\n",
       "      <td>1.000000</td>\n",
       "      <td>1.000000</td>\n",
       "      <td>9.590000</td>\n",
       "      <td>0 days 00:00:00</td>\n",
       "      <td>0.000000</td>\n",
       "      <td>0.000000</td>\n",
       "    </tr>\n",
       "    <tr>\n",
       "      <th>25%</th>\n",
       "      <td>62.050000</td>\n",
       "      <td>120.000000</td>\n",
       "      <td>1.000000</td>\n",
       "      <td>63.100000</td>\n",
       "      <td>119 days 00:00:00</td>\n",
       "      <td>119.000000</td>\n",
       "      <td>0.000000</td>\n",
       "    </tr>\n",
       "    <tr>\n",
       "      <th>50%</th>\n",
       "      <td>105.520000</td>\n",
       "      <td>225.000000</td>\n",
       "      <td>1.000000</td>\n",
       "      <td>107.950000</td>\n",
       "      <td>224 days 00:00:00</td>\n",
       "      <td>224.000000</td>\n",
       "      <td>0.000000</td>\n",
       "    </tr>\n",
       "    <tr>\n",
       "      <th>75%</th>\n",
       "      <td>177.240000</td>\n",
       "      <td>354.000000</td>\n",
       "      <td>1.000000</td>\n",
       "      <td>183.270000</td>\n",
       "      <td>353 days 00:00:00</td>\n",
       "      <td>353.000000</td>\n",
       "      <td>1.000000</td>\n",
       "    </tr>\n",
       "    <tr>\n",
       "      <th>max</th>\n",
       "      <td>13664.080000</td>\n",
       "      <td>730.000000</td>\n",
       "      <td>16.000000</td>\n",
       "      <td>13664.080000</td>\n",
       "      <td>729 days 00:00:00</td>\n",
       "      <td>729.000000</td>\n",
       "      <td>2.000000</td>\n",
       "    </tr>\n",
       "  </tbody>\n",
       "</table>\n",
       "</div>"
      ],
      "text/plain": [
       "       payment_value     R-recency   F-frequency    M-monetary  \\\n",
       "count   95419.000000  95419.000000  95419.000000  95419.000000   \n",
       "mean      161.100978    244.496484      1.034018    166.070491   \n",
       "std       221.822696    153.153950      0.211235    228.341907   \n",
       "min         9.590000      1.000000      1.000000      9.590000   \n",
       "25%        62.050000    120.000000      1.000000     63.100000   \n",
       "50%       105.520000    225.000000      1.000000    107.950000   \n",
       "75%       177.240000    354.000000      1.000000    183.270000   \n",
       "max     13664.080000    730.000000     16.000000  13664.080000   \n",
       "\n",
       "                                 a    diff_jours      Cluster1  \n",
       "count                        95419  95419.000000  95419.000000  \n",
       "mean   243 days 11:54:56.211446360    243.496484      0.479066  \n",
       "std    153 days 03:41:41.250940148    153.153950      0.564862  \n",
       "min                0 days 00:00:00      0.000000      0.000000  \n",
       "25%              119 days 00:00:00    119.000000      0.000000  \n",
       "50%              224 days 00:00:00    224.000000      0.000000  \n",
       "75%              353 days 00:00:00    353.000000      1.000000  \n",
       "max              729 days 00:00:00    729.000000      2.000000  "
      ]
     },
     "execution_count": 67,
     "metadata": {},
     "output_type": "execute_result"
    }
   ],
   "source": [
    "df_t1.describe()"
   ]
  },
  {
   "cell_type": "code",
   "execution_count": null,
   "id": "5d170f61",
   "metadata": {},
   "outputs": [],
   "source": [
    "#On a comme max 729/7=104.14 semaines (ie. un peu plus de 104 semaines).\n",
    "\n",
    "\n",
    "\n",
    "#C. Étude de la prédiction.\n",
    "\n",
    "#Afin d'avoir des résultats robustes, il faut que les intervalles de temps considérés soient 'courts mais pas trop'.\n",
    "#Vu notre période de temps qui va de septembre 2016, jusqu'à septembre 2018, l'analyse des prédictions toutes les semaines\n",
    "#semble adéquat.\n",
    "#On a décidé, pour se faire, de considérer l'entraînement sur la base entière et ensuite on procédera à reculons pour les\n",
    "#prédictions. Ainsi on enlèvera à chaque prédiction les semaines précédentes.\n",
    "\n",
    "#C.1 Moins 1ère semaine.\n",
    "\n",
    "#C.1.1 On commence par \"loc\" la base."
   ]
  },
  {
   "cell_type": "code",
   "execution_count": 68,
   "id": "edef82ab",
   "metadata": {},
   "outputs": [
    {
     "data": {
      "text/plain": [
       "customer_unique_id                  98539\n",
       "order_id                            98539\n",
       "payment_value                       98539\n",
       "order_purchase_timestamp_NEW        98539\n",
       "Date_du_dernier_achat_par_client    98539\n",
       "Dataset_last_day                    98539\n",
       "R-recency                           98539\n",
       "F-frequency                         98539\n",
       "M-monetary                          98539\n",
       "a                                   98539\n",
       "diff_jours                          98539\n",
       "Cluster1                            98539\n",
       "dtype: int64"
      ]
     },
     "execution_count": 68,
     "metadata": {},
     "output_type": "execute_result"
    }
   ],
   "source": [
    "df_t2=df_t.loc[(df_t['diff_jours'] >7)]\n",
    "df_t2.count()"
   ]
  },
  {
   "cell_type": "code",
   "execution_count": null,
   "id": "f74cfb9b",
   "metadata": {
    "scrolled": true
   },
   "outputs": [],
   "source": [
    "#df_t2"
   ]
  },
  {
   "cell_type": "code",
   "execution_count": null,
   "id": "f62a1f92",
   "metadata": {},
   "outputs": [],
   "source": [
    "#C.1.2 On calcule les nouvelles variable RFM pour cette nouvelle base.\n",
    "#'R-recency'"
   ]
  },
  {
   "cell_type": "code",
   "execution_count": 69,
   "id": "dd1cb25e",
   "metadata": {},
   "outputs": [],
   "source": [
    "df_t2['Date_du_dernier_achat_par_client']=df_t2.groupby('customer_unique_id')['order_purchase_timestamp_NEW'].transform(max)"
   ]
  },
  {
   "cell_type": "code",
   "execution_count": 70,
   "id": "3dbdfdc9",
   "metadata": {},
   "outputs": [],
   "source": [
    "df_t2['Dataset_last_day']=df_t2['order_purchase_timestamp_NEW'].max()"
   ]
  },
  {
   "cell_type": "code",
   "execution_count": 71,
   "id": "3208c6bb",
   "metadata": {},
   "outputs": [],
   "source": [
    "df_t2['R-recency']= ((df_t2['Dataset_last_day']+timedelta(days=1))-df_t2['Date_du_dernier_achat_par_client']).dt.days"
   ]
  },
  {
   "cell_type": "code",
   "execution_count": null,
   "id": "40ed928f",
   "metadata": {
    "scrolled": true
   },
   "outputs": [],
   "source": [
    "#df_t2"
   ]
  },
  {
   "cell_type": "code",
   "execution_count": 72,
   "id": "6d4da4f4",
   "metadata": {},
   "outputs": [],
   "source": [
    "df_t2=df_t2.drop(['F-frequency', 'M-monetary'], axis=1)"
   ]
  },
  {
   "cell_type": "code",
   "execution_count": null,
   "id": "0580263e",
   "metadata": {},
   "outputs": [],
   "source": [
    "#'F-frequency'"
   ]
  },
  {
   "cell_type": "code",
   "execution_count": 73,
   "id": "0f355325",
   "metadata": {},
   "outputs": [],
   "source": [
    "F=df_t2.groupby(['customer_unique_id'], as_index=False)['order_id'].count()"
   ]
  },
  {
   "cell_type": "code",
   "execution_count": 74,
   "id": "fdc2e435",
   "metadata": {},
   "outputs": [],
   "source": [
    "F.rename(columns={'order_id': 'F-frequency'}, inplace=True)\n",
    "#F"
   ]
  },
  {
   "cell_type": "code",
   "execution_count": 75,
   "id": "49e597f8",
   "metadata": {},
   "outputs": [],
   "source": [
    "df_t2= pd.merge(df_t2, F, how='left', on='customer_unique_id')"
   ]
  },
  {
   "cell_type": "code",
   "execution_count": null,
   "id": "f5aacc38",
   "metadata": {
    "scrolled": true
   },
   "outputs": [],
   "source": [
    "#df_t2"
   ]
  },
  {
   "cell_type": "code",
   "execution_count": null,
   "id": "eaf5efe0",
   "metadata": {},
   "outputs": [],
   "source": [
    "#'M-monetary'"
   ]
  },
  {
   "cell_type": "code",
   "execution_count": 76,
   "id": "825e719a",
   "metadata": {},
   "outputs": [],
   "source": [
    "M=df_t2.loc[:,['customer_unique_id', 'payment_value']]\n",
    "M=M.groupby(['customer_unique_id'], as_index=False).sum()\n",
    "M.rename(columns={'payment_value': 'M-monetary'}, inplace=True)"
   ]
  },
  {
   "cell_type": "code",
   "execution_count": 77,
   "id": "2e10701f",
   "metadata": {},
   "outputs": [],
   "source": [
    "df_t2= pd.merge(df_t2, M, how='left', on='customer_unique_id')"
   ]
  },
  {
   "cell_type": "code",
   "execution_count": null,
   "id": "84f054a8",
   "metadata": {
    "scrolled": true
   },
   "outputs": [],
   "source": [
    "#df_t2"
   ]
  },
  {
   "cell_type": "code",
   "execution_count": null,
   "id": "52136af7",
   "metadata": {},
   "outputs": [],
   "source": [
    "#C.1.3 On calcule un nouveau modèle sur la base avec 1 semaine en moins."
   ]
  },
  {
   "cell_type": "code",
   "execution_count": 78,
   "id": "e28dba3c",
   "metadata": {},
   "outputs": [
    {
     "data": {
      "text/plain": [
       "R-recency      98539\n",
       "F-frequency    98539\n",
       "M-monetary     98539\n",
       "dtype: int64"
      ]
     },
     "execution_count": 78,
     "metadata": {},
     "output_type": "execute_result"
    }
   ],
   "source": [
    "RFM_2=df_t2.loc[:,['R-recency','F-frequency','M-monetary']]\n",
    "RFM_2.count()"
   ]
  },
  {
   "cell_type": "code",
   "execution_count": 79,
   "id": "e344bab4",
   "metadata": {},
   "outputs": [
    {
     "data": {
      "image/png": "[encoded data removed]",
      "text/plain": [
       "<Figure size 432x288 with 1 Axes>"
      ]
     },
     "metadata": {
      "needs_background": "light"
     },
     "output_type": "display_data"
    }
   ],
   "source": [
    "SSE_2=[]\n",
    "for k in range(0,10):\n",
    "    kmeans=KMeans(n_clusters=k+1, random_state=1231).fit(RFM_2)\n",
    "    SSE_2.append(kmeans.inertia_)\n",
    "\n",
    "sns.pointplot(x=list(range(1,11)),y=SSE_2)\n",
    "plt.show()"
   ]
  },
  {
   "cell_type": "code",
   "execution_count": 80,
   "id": "e5534814",
   "metadata": {},
   "outputs": [
    {
     "name": "stdout",
     "output_type": "stream",
     "text": [
      "4\n"
     ]
    }
   ],
   "source": [
    "kn= KneeLocator(list(range(1,11)),  #x values\n",
    "                      SSE_2, # y values\n",
    "                      curve=\"convex\", #parameter from figure\n",
    "                      direction=\"decreasing\") #parameter from figureprint(kn.knee)\n",
    "\n",
    "print(kn.knee)"
   ]
  },
  {
   "cell_type": "code",
   "execution_count": 81,
   "id": "2952e4bd",
   "metadata": {},
   "outputs": [
    {
     "data": {
      "text/plain": [
       "<matplotlib.collections.LineCollection at 0x2546c2c9e50>"
      ]
     },
     "execution_count": 81,
     "metadata": {},
     "output_type": "execute_result"
    },
    {
     "data": {
      "image/png": "[encoded data removed]",
      "text/plain": [
       "<Figure size 432x288 with 1 Axes>"
      ]
     },
     "metadata": {
      "needs_background": "light"
     },
     "output_type": "display_data"
    }
   ],
   "source": [
    "plt.plot(list(range(1,11)), SSE_2, 'bx-')\n",
    "plt.vlines(kn.knee, plt.ylim()[0], plt.ylim()[1], linestyles='dashed')"
   ]
  },
  {
   "cell_type": "code",
   "execution_count": 82,
   "id": "c365ab73",
   "metadata": {},
   "outputs": [
    {
     "data": {
      "text/html": [
       "<div>\n",
       "<style scoped>\n",
       "    .dataframe tbody tr th:only-of-type {\n",
       "        vertical-align: middle;\n",
       "    }\n",
       "\n",
       "    .dataframe tbody tr th {\n",
       "        vertical-align: top;\n",
       "    }\n",
       "\n",
       "    .dataframe thead th {\n",
       "        text-align: right;\n",
       "    }\n",
       "</style>\n",
       "<table border=\"1\" class=\"dataframe\">\n",
       "  <thead>\n",
       "    <tr style=\"text-align: right;\">\n",
       "      <th></th>\n",
       "      <th>customer_unique_id</th>\n",
       "      <th>order_id</th>\n",
       "      <th>payment_value</th>\n",
       "      <th>order_purchase_timestamp_NEW</th>\n",
       "      <th>Date_du_dernier_achat_par_client</th>\n",
       "      <th>Dataset_last_day</th>\n",
       "      <th>R-recency</th>\n",
       "      <th>a</th>\n",
       "      <th>diff_jours</th>\n",
       "      <th>Cluster1</th>\n",
       "      <th>F-frequency</th>\n",
       "      <th>M-monetary</th>\n",
       "    </tr>\n",
       "  </thead>\n",
       "  <tbody>\n",
       "    <tr>\n",
       "      <th>0</th>\n",
       "      <td>f7b62c75467e8ce080b201667cbbc274</td>\n",
       "      <td>262118ce178bb3e4590a3adcf6d62e6b</td>\n",
       "      <td>126.12</td>\n",
       "      <td>2016-10-06</td>\n",
       "      <td>2016-10-07</td>\n",
       "      <td>2018-08-26</td>\n",
       "      <td>689</td>\n",
       "      <td>696 days</td>\n",
       "      <td>696</td>\n",
       "      <td>0</td>\n",
       "      <td>2</td>\n",
       "      <td>168.05</td>\n",
       "    </tr>\n",
       "    <tr>\n",
       "      <th>1</th>\n",
       "      <td>d0b614ed8a43dca2f98a7c093723809d</td>\n",
       "      <td>fd33085945f15975375cd8ec85440511</td>\n",
       "      <td>212.82</td>\n",
       "      <td>2018-08-20</td>\n",
       "      <td>2018-08-20</td>\n",
       "      <td>2018-08-26</td>\n",
       "      <td>7</td>\n",
       "      <td>14 days</td>\n",
       "      <td>14</td>\n",
       "      <td>2</td>\n",
       "      <td>1</td>\n",
       "      <td>212.82</td>\n",
       "    </tr>\n",
       "    <tr>\n",
       "      <th>2</th>\n",
       "      <td>71692b73230707ce0f95d8a6091c22b4</td>\n",
       "      <td>6e57e23ecac1ae881286657694444267</td>\n",
       "      <td>333.91</td>\n",
       "      <td>2018-08-09</td>\n",
       "      <td>2018-08-09</td>\n",
       "      <td>2018-08-26</td>\n",
       "      <td>18</td>\n",
       "      <td>25 days</td>\n",
       "      <td>25</td>\n",
       "      <td>2</td>\n",
       "      <td>1</td>\n",
       "      <td>333.91</td>\n",
       "    </tr>\n",
       "    <tr>\n",
       "      <th>3</th>\n",
       "      <td>60ef1068bcbffaed11615482aeb7c8bf</td>\n",
       "      <td>4154bf1348caac78152fe76e3e9c4af8</td>\n",
       "      <td>150.27</td>\n",
       "      <td>2018-08-23</td>\n",
       "      <td>2018-08-23</td>\n",
       "      <td>2018-08-26</td>\n",
       "      <td>4</td>\n",
       "      <td>11 days</td>\n",
       "      <td>11</td>\n",
       "      <td>2</td>\n",
       "      <td>1</td>\n",
       "      <td>150.27</td>\n",
       "    </tr>\n",
       "    <tr>\n",
       "      <th>4</th>\n",
       "      <td>8d43f7b8f33f60fb6ae5ec21072135b5</td>\n",
       "      <td>6dcf0aeb8b1eb4021c26e1d0e9394979</td>\n",
       "      <td>318.97</td>\n",
       "      <td>2018-08-09</td>\n",
       "      <td>2018-08-09</td>\n",
       "      <td>2018-08-26</td>\n",
       "      <td>18</td>\n",
       "      <td>25 days</td>\n",
       "      <td>25</td>\n",
       "      <td>2</td>\n",
       "      <td>1</td>\n",
       "      <td>318.97</td>\n",
       "    </tr>\n",
       "    <tr>\n",
       "      <th>...</th>\n",
       "      <td>...</td>\n",
       "      <td>...</td>\n",
       "      <td>...</td>\n",
       "      <td>...</td>\n",
       "      <td>...</td>\n",
       "      <td>...</td>\n",
       "      <td>...</td>\n",
       "      <td>...</td>\n",
       "      <td>...</td>\n",
       "      <td>...</td>\n",
       "      <td>...</td>\n",
       "      <td>...</td>\n",
       "    </tr>\n",
       "    <tr>\n",
       "      <th>98534</th>\n",
       "      <td>8bd9c53ae5e194fd363ed6714235e6be</td>\n",
       "      <td>70b7e94ea46d3e8b5bc12a50186edaf0</td>\n",
       "      <td>274.84</td>\n",
       "      <td>2018-01-01</td>\n",
       "      <td>2018-01-01</td>\n",
       "      <td>2018-08-26</td>\n",
       "      <td>238</td>\n",
       "      <td>245 days</td>\n",
       "      <td>245</td>\n",
       "      <td>2</td>\n",
       "      <td>1</td>\n",
       "      <td>274.84</td>\n",
       "    </tr>\n",
       "    <tr>\n",
       "      <th>98535</th>\n",
       "      <td>99567d452c6589499a2ba8b0fd4658e5</td>\n",
       "      <td>996c7e73600ad3723e8627ab7bef81e4</td>\n",
       "      <td>664.43</td>\n",
       "      <td>2018-07-16</td>\n",
       "      <td>2018-07-16</td>\n",
       "      <td>2018-08-26</td>\n",
       "      <td>42</td>\n",
       "      <td>49 days</td>\n",
       "      <td>49</td>\n",
       "      <td>3</td>\n",
       "      <td>1</td>\n",
       "      <td>664.43</td>\n",
       "    </tr>\n",
       "    <tr>\n",
       "      <th>98536</th>\n",
       "      <td>b8b3c435a58aebd788a477bed8342910</td>\n",
       "      <td>70b742795bc441e94a44a084b6d9ce7a</td>\n",
       "      <td>578.82</td>\n",
       "      <td>2017-08-24</td>\n",
       "      <td>2017-08-24</td>\n",
       "      <td>2018-08-26</td>\n",
       "      <td>368</td>\n",
       "      <td>375 days</td>\n",
       "      <td>375</td>\n",
       "      <td>3</td>\n",
       "      <td>3</td>\n",
       "      <td>919.34</td>\n",
       "    </tr>\n",
       "    <tr>\n",
       "      <th>98537</th>\n",
       "      <td>6f90ec5150be36c4475835b5941ab56f</td>\n",
       "      <td>6e5fe7366a2e1bfbf3257dba0af1267f</td>\n",
       "      <td>406.92</td>\n",
       "      <td>2016-10-09</td>\n",
       "      <td>2016-10-09</td>\n",
       "      <td>2018-08-26</td>\n",
       "      <td>687</td>\n",
       "      <td>694 days</td>\n",
       "      <td>694</td>\n",
       "      <td>0</td>\n",
       "      <td>1</td>\n",
       "      <td>406.92</td>\n",
       "    </tr>\n",
       "    <tr>\n",
       "      <th>98538</th>\n",
       "      <td>3629a4b18f2eb69e03f153158e48d2cc</td>\n",
       "      <td>ce6d150fb29ada17d2082f4847107665</td>\n",
       "      <td>1586.47</td>\n",
       "      <td>2018-01-25</td>\n",
       "      <td>2018-01-25</td>\n",
       "      <td>2018-08-26</td>\n",
       "      <td>214</td>\n",
       "      <td>221 days</td>\n",
       "      <td>221</td>\n",
       "      <td>1</td>\n",
       "      <td>1</td>\n",
       "      <td>1586.47</td>\n",
       "    </tr>\n",
       "  </tbody>\n",
       "</table>\n",
       "<p>98539 rows × 12 columns</p>\n",
       "</div>"
      ],
      "text/plain": [
       "                     customer_unique_id                          order_id  \\\n",
       "0      f7b62c75467e8ce080b201667cbbc274  262118ce178bb3e4590a3adcf6d62e6b   \n",
       "1      d0b614ed8a43dca2f98a7c093723809d  fd33085945f15975375cd8ec85440511   \n",
       "2      71692b73230707ce0f95d8a6091c22b4  6e57e23ecac1ae881286657694444267   \n",
       "3      60ef1068bcbffaed11615482aeb7c8bf  4154bf1348caac78152fe76e3e9c4af8   \n",
       "4      8d43f7b8f33f60fb6ae5ec21072135b5  6dcf0aeb8b1eb4021c26e1d0e9394979   \n",
       "...                                 ...                               ...   \n",
       "98534  8bd9c53ae5e194fd363ed6714235e6be  70b7e94ea46d3e8b5bc12a50186edaf0   \n",
       "98535  99567d452c6589499a2ba8b0fd4658e5  996c7e73600ad3723e8627ab7bef81e4   \n",
       "98536  b8b3c435a58aebd788a477bed8342910  70b742795bc441e94a44a084b6d9ce7a   \n",
       "98537  6f90ec5150be36c4475835b5941ab56f  6e5fe7366a2e1bfbf3257dba0af1267f   \n",
       "98538  3629a4b18f2eb69e03f153158e48d2cc  ce6d150fb29ada17d2082f4847107665   \n",
       "\n",
       "       payment_value order_purchase_timestamp_NEW  \\\n",
       "0             126.12                   2016-10-06   \n",
       "1             212.82                   2018-08-20   \n",
       "2             333.91                   2018-08-09   \n",
       "3             150.27                   2018-08-23   \n",
       "4             318.97                   2018-08-09   \n",
       "...              ...                          ...   \n",
       "98534         274.84                   2018-01-01   \n",
       "98535         664.43                   2018-07-16   \n",
       "98536         578.82                   2017-08-24   \n",
       "98537         406.92                   2016-10-09   \n",
       "98538        1586.47                   2018-01-25   \n",
       "\n",
       "      Date_du_dernier_achat_par_client Dataset_last_day  R-recency        a  \\\n",
       "0                           2016-10-07       2018-08-26        689 696 days   \n",
       "1                           2018-08-20       2018-08-26          7  14 days   \n",
       "2                           2018-08-09       2018-08-26         18  25 days   \n",
       "3                           2018-08-23       2018-08-26          4  11 days   \n",
       "4                           2018-08-09       2018-08-26         18  25 days   \n",
       "...                                ...              ...        ...      ...   \n",
       "98534                       2018-01-01       2018-08-26        238 245 days   \n",
       "98535                       2018-07-16       2018-08-26         42  49 days   \n",
       "98536                       2017-08-24       2018-08-26        368 375 days   \n",
       "98537                       2016-10-09       2018-08-26        687 694 days   \n",
       "98538                       2018-01-25       2018-08-26        214 221 days   \n",
       "\n",
       "       diff_jours  Cluster1  F-frequency  M-monetary  \n",
       "0             696         0            2      168.05  \n",
       "1              14         2            1      212.82  \n",
       "2              25         2            1      333.91  \n",
       "3              11         2            1      150.27  \n",
       "4              25         2            1      318.97  \n",
       "...           ...       ...          ...         ...  \n",
       "98534         245         2            1      274.84  \n",
       "98535          49         3            1      664.43  \n",
       "98536         375         3            3      919.34  \n",
       "98537         694         0            1      406.92  \n",
       "98538         221         1            1     1586.47  \n",
       "\n",
       "[98539 rows x 12 columns]"
      ]
     },
     "execution_count": 82,
     "metadata": {},
     "output_type": "execute_result"
    }
   ],
   "source": [
    "model2=KMeans(n_clusters=kn.knee, random_state=1231).fit(RFM_2)\n",
    "df_t2['Cluster1']=model2.labels_\n",
    "df_t2"
   ]
  },
  {
   "cell_type": "code",
   "execution_count": null,
   "id": "85b9a699",
   "metadata": {},
   "outputs": [],
   "source": [
    "#C.1.4 On calcule les prédiction du modèle base complète."
   ]
  },
  {
   "cell_type": "code",
   "execution_count": 83,
   "id": "e1aa7ee8",
   "metadata": {},
   "outputs": [],
   "source": [
    "prediction_1=model.predict(RFM_2)"
   ]
  },
  {
   "cell_type": "code",
   "execution_count": 84,
   "id": "80698c96",
   "metadata": {},
   "outputs": [
    {
     "data": {
      "text/plain": [
       "array([1, 0, 0, ..., 2, 1, 2])"
      ]
     },
     "execution_count": 84,
     "metadata": {},
     "output_type": "execute_result"
    }
   ],
   "source": [
    "prediction_1"
   ]
  },
  {
   "cell_type": "code",
   "execution_count": 85,
   "id": "3023daac",
   "metadata": {
    "scrolled": true
   },
   "outputs": [],
   "source": [
    "df_t2['Cluster2']=prediction_1\n",
    "#df_t2"
   ]
  },
  {
   "cell_type": "code",
   "execution_count": 86,
   "id": "d31c26b9",
   "metadata": {},
   "outputs": [
    {
     "data": {
      "text/plain": [
       "-0.447348258622717"
      ]
     },
     "execution_count": 86,
     "metadata": {},
     "output_type": "execute_result"
    }
   ],
   "source": [
    "results_2=adjusted_rand_score(df_t2['Cluster1'], df_t2['Cluster2'])\n",
    "results_2"
   ]
  },
  {
   "cell_type": "code",
   "execution_count": null,
   "id": "5af12ff9",
   "metadata": {},
   "outputs": [],
   "source": [
    "#Automatisation"
   ]
  },
  {
   "cell_type": "code",
   "execution_count": 88,
   "id": "7b1e6b1d",
   "metadata": {
    "scrolled": true
   },
   "outputs": [
    {
     "name": "stdout",
     "output_type": "stream",
     "text": [
      "ARI entre les clusters\n",
      "Semaine   ARI\n",
      "_____________________________________________________\n",
      "-1 sem. -0.8673271867883785\n",
      "-2 sem. 0.40906572483225845\n",
      "-3 sem. -0.5690116369065127\n",
      "-4 sem. 0.7127297098247481\n",
      "-5 sem. 1.148190933323621\n",
      "-6 sem. 1.1802515713526387\n",
      "-7 sem. 1.181718696960971\n",
      "-8 sem. 1.2750899041166155\n",
      "-9 sem. -1.4934192062590284\n",
      "-10 sem. -2.218263544355782\n",
      "-11 sem. -3.380055634886571\n",
      "-12 sem. 5.267547296720747\n",
      "-13 sem. 8.73895707697325\n",
      "-14 sem. 20.14806010609776\n",
      "-15 sem. -62.25938534271311\n",
      "-16 sem. -6.212642288060432\n",
      "-17 sem. -2.8510645791499223\n",
      "-18 sem. -1.7942500872701672\n",
      "-19 sem. -1.2529306447649209\n",
      "-20 sem. -0.9248686233450129\n",
      "-21 sem. -0.7092915911652117\n",
      "-22 sem. 0.5506847218200025\n",
      "-23 sem. 0.5261797981174339\n",
      "-24 sem. 0.5114353646384385\n",
      "-25 sem. 0.1519163487109309\n",
      "-26 sem. 0.15244035855304244\n",
      "-27 sem. 0.1598989797098221\n",
      "-28 sem. 0.16645912107479666\n",
      "-29 sem. 0.17047167272561758\n",
      "-30 sem. 0.17779211834805164\n",
      "-31 sem. 0.18630778148148652\n",
      "-32 sem. 0.19419343855831162\n",
      "-33 sem. 0.20094523886927318\n",
      "-34 sem. 0.2056762469875137\n",
      "-35 sem. 0.20776569920516555\n",
      "-36 sem. 0.21415698976867031\n",
      "-37 sem. 0.2213020955128466\n",
      "-38 sem. 0.2351938738764236\n",
      "-39 sem. 0.2474910013808866\n",
      "-40 sem. 0.26691790937675425\n",
      "-41 sem. 0.2899850390088511\n",
      "-42 sem. 0.31002639242430147\n",
      "-43 sem. 0.4265126285391192\n",
      "-44 sem. 0.4469984241161737\n",
      "-45 sem. 0.5013525775228623\n",
      "-46 sem. 0.5467098768939356\n",
      "-47 sem. 0.64517327297979\n",
      "-48 sem. 0.7457143867030744\n",
      "-49 sem. 0.6396952615357538\n",
      "-50 sem. 0.6206612554682743\n",
      "-51 sem. 0.6153166889604609\n",
      "-52 sem. 0.6050091730958278\n",
      "-53 sem. 0.5494734764707666\n",
      "-54 sem. 0.5415210849271768\n",
      "-55 sem. 0.5421746820263574\n",
      "-56 sem. 0.5614481383248413\n",
      "-57 sem. 0.5409406549006386\n",
      "-58 sem. 0.5449729890240708\n",
      "-59 sem. 0.5585245164552547\n",
      "-60 sem. 0.5637470041248105\n",
      "-61 sem. 0.5543110100220281\n",
      "-62 sem. 0.6113357709279759\n",
      "-63 sem. 0.8809931937949462\n",
      "-64 sem. 0.8724305874380861\n",
      "-65 sem. 0.8799590946618352\n",
      "-66 sem. 0.8732399294329477\n",
      "-67 sem. 0.8777709388270666\n",
      "-68 sem. 0.8786929078369724\n",
      "-69 sem. 0.8692740564706817\n",
      "-70 sem. 0.8535787367406096\n",
      "-71 sem. 0.8589461107976967\n",
      "-72 sem. 0.8516630290034429\n",
      "-73 sem. 0.861050804682784\n",
      "-74 sem. 0.8412684502610825\n",
      "-75 sem. 0.6675974119799138\n",
      "-76 sem. 0.8068632934789366\n",
      "-77 sem. 0.7799985053842328\n",
      "-78 sem. 0.8083717988723002\n",
      "-79 sem. 0.756874825366324\n",
      "-80 sem. 0.7505486555798478\n",
      "-81 sem. 0.7965779931167518\n",
      "-82 sem. 0.4884682291550648\n",
      "-83 sem. 0.3994302397689374\n",
      "-84 sem. 0.3316936821360724\n",
      "-85 sem. 0.33902654546060434\n",
      "-86 sem. 0.3629948349319833\n",
      "-87 sem. 0.32009743738320123\n",
      "-88 sem. 0.32009743738320123\n",
      "-89 sem. 0.32009743738320123\n",
      "-90 sem. 0.32009743738320123\n",
      "-91 sem. 0.32009743738320123\n",
      "-92 sem. 0.32009743738320123\n",
      "-93 sem. 0.32009743738320123\n",
      "-94 sem. 0.32009743738320123\n",
      "-95 sem. 0.32009743738320123\n",
      "-96 sem. 0.32009743738320123\n",
      "-97 sem. 0.32009743738320123\n",
      "-98 sem. 0.32009743738320123\n",
      "-99 sem. 0.5193532751202841\n",
      "-100 sem. 0.0\n"
     ]
    },
    {
     "ename": "ValueError",
     "evalue": "n_samples=2 should be >= n_clusters=3.",
     "output_type": "error",
     "traceback": [
      "\u001b[1;31m---------------------------------------------------------------------------\u001b[0m",
      "\u001b[1;31mValueError\u001b[0m                                Traceback (most recent call last)",
      "\u001b[1;32m~\\AppData\\Local\\Temp/ipykernel_6016/3071891846.py\u001b[0m in \u001b[0;36m<module>\u001b[1;34m\u001b[0m\n\u001b[0;32m     33\u001b[0m                       \u001b[0mcurve\u001b[0m\u001b[1;33m=\u001b[0m\u001b[1;34m\"convex\"\u001b[0m\u001b[1;33m,\u001b[0m \u001b[1;31m#parameter from figure\u001b[0m\u001b[1;33m\u001b[0m\u001b[1;33m\u001b[0m\u001b[0m\n\u001b[0;32m     34\u001b[0m                       direction=\"decreasing\") #parameter from figureprint(kn.knee)\n\u001b[1;32m---> 35\u001b[1;33m     \u001b[0mmodel2\u001b[0m\u001b[1;33m=\u001b[0m\u001b[0mKMeans\u001b[0m\u001b[1;33m(\u001b[0m\u001b[0mn_clusters\u001b[0m\u001b[1;33m=\u001b[0m\u001b[1;36m3\u001b[0m\u001b[1;33m,\u001b[0m \u001b[0mrandom_state\u001b[0m\u001b[1;33m=\u001b[0m\u001b[1;36m1231\u001b[0m\u001b[1;33m)\u001b[0m\u001b[1;33m.\u001b[0m\u001b[0mfit\u001b[0m\u001b[1;33m(\u001b[0m\u001b[0mRFM_2\u001b[0m\u001b[1;33m)\u001b[0m\u001b[1;33m\u001b[0m\u001b[1;33m\u001b[0m\u001b[0m\n\u001b[0m\u001b[0;32m     36\u001b[0m     \u001b[0mdf_t2\u001b[0m\u001b[1;33m[\u001b[0m\u001b[1;34m'Cluster1'\u001b[0m\u001b[1;33m]\u001b[0m\u001b[1;33m=\u001b[0m\u001b[0mmodel2\u001b[0m\u001b[1;33m.\u001b[0m\u001b[0mlabels_\u001b[0m\u001b[1;33m\u001b[0m\u001b[1;33m\u001b[0m\u001b[0m\n\u001b[0;32m     37\u001b[0m \u001b[1;33m\u001b[0m\u001b[0m\n",
      "\u001b[1;32mC:\\ProgramData\\Anaconda3\\lib\\site-packages\\sklearn\\cluster\\_kmeans.py\u001b[0m in \u001b[0;36mfit\u001b[1;34m(self, X, y, sample_weight)\u001b[0m\n\u001b[0;32m    982\u001b[0m                                 accept_large_sparse=False)\n\u001b[0;32m    983\u001b[0m \u001b[1;33m\u001b[0m\u001b[0m\n\u001b[1;32m--> 984\u001b[1;33m         \u001b[0mself\u001b[0m\u001b[1;33m.\u001b[0m\u001b[0m_check_params\u001b[0m\u001b[1;33m(\u001b[0m\u001b[0mX\u001b[0m\u001b[1;33m)\u001b[0m\u001b[1;33m\u001b[0m\u001b[1;33m\u001b[0m\u001b[0m\n\u001b[0m\u001b[0;32m    985\u001b[0m         \u001b[0mrandom_state\u001b[0m \u001b[1;33m=\u001b[0m \u001b[0mcheck_random_state\u001b[0m\u001b[1;33m(\u001b[0m\u001b[0mself\u001b[0m\u001b[1;33m.\u001b[0m\u001b[0mrandom_state\u001b[0m\u001b[1;33m)\u001b[0m\u001b[1;33m\u001b[0m\u001b[1;33m\u001b[0m\u001b[0m\n\u001b[0;32m    986\u001b[0m         \u001b[0msample_weight\u001b[0m \u001b[1;33m=\u001b[0m \u001b[0m_check_sample_weight\u001b[0m\u001b[1;33m(\u001b[0m\u001b[0msample_weight\u001b[0m\u001b[1;33m,\u001b[0m \u001b[0mX\u001b[0m\u001b[1;33m,\u001b[0m \u001b[0mdtype\u001b[0m\u001b[1;33m=\u001b[0m\u001b[0mX\u001b[0m\u001b[1;33m.\u001b[0m\u001b[0mdtype\u001b[0m\u001b[1;33m)\u001b[0m\u001b[1;33m\u001b[0m\u001b[1;33m\u001b[0m\u001b[0m\n",
      "\u001b[1;32mC:\\ProgramData\\Anaconda3\\lib\\site-packages\\sklearn\\cluster\\_kmeans.py\u001b[0m in \u001b[0;36m_check_params\u001b[1;34m(self, X)\u001b[0m\n\u001b[0;32m    810\u001b[0m         \u001b[1;31m# n_clusters\u001b[0m\u001b[1;33m\u001b[0m\u001b[1;33m\u001b[0m\u001b[0m\n\u001b[0;32m    811\u001b[0m         \u001b[1;32mif\u001b[0m \u001b[0mX\u001b[0m\u001b[1;33m.\u001b[0m\u001b[0mshape\u001b[0m\u001b[1;33m[\u001b[0m\u001b[1;36m0\u001b[0m\u001b[1;33m]\u001b[0m \u001b[1;33m<\u001b[0m \u001b[0mself\u001b[0m\u001b[1;33m.\u001b[0m\u001b[0mn_clusters\u001b[0m\u001b[1;33m:\u001b[0m\u001b[1;33m\u001b[0m\u001b[1;33m\u001b[0m\u001b[0m\n\u001b[1;32m--> 812\u001b[1;33m             raise ValueError(f\"n_samples={X.shape[0]} should be >= \"\n\u001b[0m\u001b[0;32m    813\u001b[0m                              f\"n_clusters={self.n_clusters}.\")\n\u001b[0;32m    814\u001b[0m \u001b[1;33m\u001b[0m\u001b[0m\n",
      "\u001b[1;31mValueError\u001b[0m: n_samples=2 should be >= n_clusters=3."
     ]
    }
   ],
   "source": [
    "print(\"ARI entre les clusters\")\n",
    "print('Semaine   ARI')\n",
    "print(53 * '_')\n",
    "\n",
    "\n",
    "for i in range(103):\n",
    "    #C.1.1 On commence par \"loc\" la base.\n",
    "    df_t2=df_t.loc[(df_t['diff_jours'] >7*(i+1))]\n",
    "    \n",
    "    #C.1.2 On calcule les nouvelles variable RFM pour cette nouvelle base.\n",
    "    #'R-recency'\n",
    "    df_t2['Date_du_dernier_achat_par_client']=df_t2.groupby('customer_unique_id')['order_purchase_timestamp_NEW'].transform(max)\n",
    "    df_t2['Dataset_last_day']=df_t2['order_purchase_timestamp_NEW'].max()\n",
    "    df_t2['R-recency']= ((df_t2['Dataset_last_day']+timedelta(days=1))-df_t2['Date_du_dernier_achat_par_client']).dt.days\n",
    "    \n",
    "    df_t2=df_t2.drop(['F-frequency', 'M-monetary'], axis=1)\n",
    "    \n",
    "    #'F-frequency'\n",
    "    F=df_t2.groupby(['customer_unique_id'], as_index=False)['order_id'].count()\n",
    "    F.rename(columns={'order_id': 'F-frequency'}, inplace=True)\n",
    "    df_t2= pd.merge(df_t2, F, how='left', on='customer_unique_id')\n",
    "    \n",
    "    #'M-monetary'\n",
    "    M=df_t2.loc[:,['customer_unique_id', 'payment_value']]\n",
    "    M=M.groupby(['customer_unique_id'], as_index=False).sum()\n",
    "    M.rename(columns={'payment_value': 'M-monetary'}, inplace=True)\n",
    "    df_t2= pd.merge(df_t2, M, how='left', on='customer_unique_id')\n",
    "    \n",
    "    #C.1.3 On calcule un nouveau modèle sur la base avec 1 semaine en moins.\n",
    "    RFM_2=df_t2.loc[:,['R-recency','F-frequency','M-monetary']]\n",
    "    kn= KneeLocator(list(range(1,11)),  #x values\n",
    "                      SSE_2, # y values\n",
    "                      curve=\"convex\", #parameter from figure\n",
    "                      direction=\"decreasing\") #parameter from figureprint(kn.knee)\n",
    "    model2=KMeans(n_clusters=3, random_state=1231).fit(RFM_2)\n",
    "    df_t2['Cluster1']=model2.labels_\n",
    "    \n",
    "    #C.1.4 On calcule les prédictions.\n",
    "    prediction_1=model.predict(RFM_2)\n",
    "    df_t2['Cluster2']=prediction_1\n",
    "    \n",
    "    name=\"-\"+str(i+1)+\" sem.\"\n",
    "    res= adjusted_rand_score(df_t2['Cluster1'], df_t2['Cluster2'])\n",
    "    results = [name, res]\n",
    "    \n",
    "    print(*results)"
   ]
  },
  {
   "cell_type": "code",
   "execution_count": null,
   "id": "0837169e",
   "metadata": {},
   "outputs": [],
   "source": [
    "\n",
    "#Si on recalcule le modèle sur les nouvelles bases le nombre de cluster optimal (le \"k\" optimal, l'elbow) peut varier d'une \n",
    "#d'une base à une autre se qui fait que les ARI sont moins bons ou bizarre. Vraiment la bonne approche est de comparer le\n",
    "#cluster initial (avec les clients en moins car en enlevant des semaines on enlève potentiellement des clients), et de les\n",
    "#comparer au .predict du modèle initial sur la base avec des semaines en moins. En fait comme pour la nouvelle base on \n",
    "#recalcule les RFM c'est vraiment comme si on rajouter des nouveau clients car les clients de la nouvelle base avec des \n",
    "#semaines en moins sont comme si ils étaient tous des nouveau clients car les RFM dépendent de la dernière date d'achat sur\n",
    "#la base, de la somme des dépenses de clients sur la période de la base, et sur le nombre de commandes par clients sur la \n",
    "#période de la base, ce qui fait qu'en enlevant des semaines les caractéristiques des clients peuvent changer drastiquement \n",
    "#pour le mieux ou pour le pire.\n",
    "\n",
    "\n",
    "#En fait quand on recalcule un modèle sur une base avec moins de données on a un modèle complètement différent a celui\n",
    "#calculé avec plus de données, et ce car les RFM dépendent de la base. Ce que la machine 'apprend' alors est du coup très \n",
    "#différent selon le que le modèle soit calculé avec la base de donnée entière ou avec une base avec moins de données. \n",
    "# Si on faisait un graphique en 'cercle' des modèles c'est comme si c’étaient deux cercles complètement indépendants sans\n",
    "#intersection.\n",
    "#lorsque l'on compare le .predict sur une base avec x semaines de moins du modèle sur base complète, avec le cluster obtenu \n",
    "#avec la base complète c'est comme si on enlever (ou rajouté) un tout petit pourcentage des clients, du coup les RFM varient\n",
    "#de peu. En une semaine de moins ou de plus on conserve en fait le 'gros' de notre base et donc le 'gros' notre modèle\n",
    "#car les RFM dépendent de la base, et c’est pour ça que c'est bien ceci ce qu'il faut comparer. Si on comparer cette fois-ci\n",
    "#les modèles a des cercles on aurait des cercles avec une intersection."
   ]
  }
 ],
 "metadata": {
  "kernelspec": {
   "display_name": "Python 3 (ipykernel)",
   "language": "python",
   "name": "python3"
  },
  "language_info": {
   "codemirror_mode": {
    "name": "ipython",
    "version": 3
   },
   "file_extension": ".py",
   "mimetype": "text/x-python",
   "name": "python",
   "nbconvert_exporter": "python",
   "pygments_lexer": "ipython3",
   "version": "3.9.7"
  }
 },
 "nbformat": 4,
 "nbformat_minor": 5
}
